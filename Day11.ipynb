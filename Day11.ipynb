{
 "cells": [
  {
   "cell_type": "code",
   "execution_count": 24,
   "id": "b843edad",
   "metadata": {},
   "outputs": [],
   "source": [
    "stock= {}\n",
    "def add_item(item_id,name,quantity):\n",
    "    if item_id not in stock:\n",
    "        stock[item_id] = {'name': name, 'quantity': quantity}\n",
    "        print(f'Item{name} added to stock with ID {item_id}')\n",
    "    else:\n",
    "          print(f\"Item with ID {item_id} already esists. Use update_item to modify.\")\n",
    "    \n",
    "def search_item(item_id):\n",
    "    if item_id in stock:\n",
    "        item = stock[item_id]\n",
    "        print(f\"Item ID:{item_id}, Name: {item['name']}, Quantity: {item['quantity']}\")\n",
    "    else:\n",
    "        print(f'Item with ID{item_id} not found in stock.')\n",
    "    \n",
    "def delete_item(item_id):\n",
    "    if item_id in stock:\n",
    "        del (stock[item_id])\n",
    "        print(f\"Item with ID{item_id} deleted from stock.\")\n",
    "    else:\n",
    "        print(f\"Item with ID{item_id} not found in stock.\")\n",
    "    \n",
    "def display_stock():\n",
    "        print('\\nCurrent Stock:')\n",
    "        for item_id, item in stock.items():\n",
    "            print(f\"Item ID: {item_id}, Name: {item['name']}, Quantity: {item['quantity']}\") "
   ]
  },
  {
   "cell_type": "code",
   "execution_count": 25,
   "id": "9598d29c",
   "metadata": {},
   "outputs": [
    {
     "name": "stdout",
     "output_type": "stream",
     "text": [
      "ItemGood Mama 50KG Rice added to stock with ID 101\n",
      "ItemGolden Penney Noddles added to stock with ID 102\n",
      "ItemSemolina 5KG added to stock with ID 103\n",
      "ItemBig Bull 25KG added to stock with ID 104\n",
      "ItemDangote Sugar 100GM added to stock with ID 105\n"
     ]
    }
   ],
   "source": [
    "add_item(101,'Good Mama 50KG Rice', 25)\n",
    "add_item(102,'Golden Penney Noddles', 15)\n",
    "add_item(103,'Semolina 5KG', 20)\n",
    "add_item(104,'Big Bull 25KG', 5)\n",
    "add_item(105,'Dangote Sugar 100GM', 40)"
   ]
  },
  {
   "cell_type": "code",
   "execution_count": 26,
   "id": "30df3b82",
   "metadata": {},
   "outputs": [
    {
     "data": {
      "text/plain": [
       "{101: {'name': 'Good Mama 50KG Rice', 'quantity': 25},\n",
       " 102: {'name': 'Golden Penney Noddles', 'quantity': 15},\n",
       " 103: {'name': 'Semolina 5KG', 'quantity': 20},\n",
       " 104: {'name': 'Big Bull 25KG', 'quantity': 5},\n",
       " 105: {'name': 'Dangote Sugar 100GM', 'quantity': 40}}"
      ]
     },
     "execution_count": 26,
     "metadata": {},
     "output_type": "execute_result"
    }
   ],
   "source": [
    "stock"
   ]
  },
  {
   "cell_type": "code",
   "execution_count": 27,
   "id": "2e506578",
   "metadata": {},
   "outputs": [
    {
     "name": "stdout",
     "output_type": "stream",
     "text": [
      "Item ID:105, Name: Dangote Sugar 100GM, Quantity: 40\n"
     ]
    }
   ],
   "source": [
    "search_item(105)"
   ]
  },
  {
   "cell_type": "code",
   "execution_count": 28,
   "id": "8d7443a4",
   "metadata": {},
   "outputs": [
    {
     "name": "stdout",
     "output_type": "stream",
     "text": [
      "Item with ID102 deleted from stock.\n"
     ]
    }
   ],
   "source": [
    "delete_item(102)"
   ]
  },
  {
   "cell_type": "code",
   "execution_count": 29,
   "id": "d758325b",
   "metadata": {},
   "outputs": [
    {
     "data": {
      "text/plain": [
       "{101: {'name': 'Good Mama 50KG Rice', 'quantity': 25},\n",
       " 103: {'name': 'Semolina 5KG', 'quantity': 20},\n",
       " 104: {'name': 'Big Bull 25KG', 'quantity': 5},\n",
       " 105: {'name': 'Dangote Sugar 100GM', 'quantity': 40}}"
      ]
     },
     "execution_count": 29,
     "metadata": {},
     "output_type": "execute_result"
    }
   ],
   "source": [
    "stock"
   ]
  },
  {
   "cell_type": "code",
   "execution_count": 30,
   "id": "c75adef4",
   "metadata": {},
   "outputs": [
    {
     "name": "stdout",
     "output_type": "stream",
     "text": [
      "\n",
      "Current Stock:\n",
      "Item ID: 101, Name: Good Mama 50KG Rice, Quantity: 25\n",
      "Item ID: 103, Name: Semolina 5KG, Quantity: 20\n",
      "Item ID: 104, Name: Big Bull 25KG, Quantity: 5\n",
      "Item ID: 105, Name: Dangote Sugar 100GM, Quantity: 40\n"
     ]
    }
   ],
   "source": [
    "display_stock()"
   ]
  },
  {
   "cell_type": "code",
   "execution_count": 31,
   "id": "893b4198",
   "metadata": {},
   "outputs": [
    {
     "data": {
      "text/plain": [
       "130"
      ]
     },
     "execution_count": 31,
     "metadata": {},
     "output_type": "execute_result"
    }
   ],
   "source": [
    " #lambda function is an anonymous fuction\n",
    "#it is a one time function, it is not reuseable.\n",
    "#also it shoild be use for simple task, a print function can not be use here\n",
    "(lambda x,y:x +y) (78,52)"
   ]
  },
  {
   "cell_type": "code",
   "execution_count": 34,
   "id": "d326b0bb",
   "metadata": {},
   "outputs": [
    {
     "name": "stdout",
     "output_type": "stream",
     "text": [
      "enter your nameMAIRO\n"
     ]
    },
    {
     "data": {
      "text/plain": [
       "'MAIRO is in upper case'"
      ]
     },
     "execution_count": 34,
     "metadata": {},
     "output_type": "execute_result"
    }
   ],
   "source": [
    "#lambda function to check if a user's name is in upper case\n",
    "(lambda name: f'{name} is in upper case' if name == name.upper() else f'{name} not in upper case')(input('enter your name'))"
   ]
  },
  {
   "cell_type": "code",
   "execution_count": 35,
   "id": "c6a386f9",
   "metadata": {},
   "outputs": [
    {
     "name": "stdout",
     "output_type": "stream",
     "text": [
      "['PYTHON', 'C++', 'JAVA', 'PHP', 'GO', 'RUBY', 'PERL', 'RUST', 'JULIA', 'COBOL']\n"
     ]
    }
   ],
   "source": [
    "#Map: map is used for the modificaition of sequence like string, tupple and list. where the lambda function\n",
    "#carries the operation and the final outcome is returned as a list or tupple\n",
    "language_name =['python','c++','java','php','go', 'ruby','perl','rust','julia','cobol']\n",
    "finaloutcome = list(map(lambda x: x.upper(), language_name))\n",
    "print(finaloutcome)"
   ]
  },
  {
   "cell_type": "code",
   "execution_count": 37,
   "id": "df31f633",
   "metadata": {
    "scrolled": true
   },
   "outputs": [
    {
     "name": "stdout",
     "output_type": "stream",
     "text": [
      "['PYTHON', 'C++', 'JAVA', 'PHP', 'GO', 'RUBY', 'PERL', 'RUST', 'JULIA', 'COBOL']\n"
     ]
    }
   ],
   "source": [
    "#Filter: filter is used for the selection in sequence like string, tuple and list where the lambda\n",
    "#function carries the opertion and the final outcome is returned as a list or tuple\n",
    "finaloutcome2 = list(filter(lambda x: x.startswith('R'), finaloutcome))\n",
    "print(finaloutcome)"
   ]
  },
  {
   "cell_type": "code",
   "execution_count": 38,
   "id": "f07aad80",
   "metadata": {},
   "outputs": [],
   "source": [
    "#EXERCISE\n",
    "#from the sequence below find the even and odd numbers seprated in different list\n",
    "numbers = []\n",
    "import random\n",
    "for i in range (1,51):\n",
    "    num = random.randint(14,89)\n",
    "    numbers.append(num)"
   ]
  },
  {
   "cell_type": "code",
   "execution_count": 39,
   "id": "f6b4acf9",
   "metadata": {},
   "outputs": [
    {
     "name": "stdout",
     "output_type": "stream",
     "text": [
      "[55, 25, 37, 86, 43, 71, 20, 83, 28, 83, 42, 27, 14, 16, 72, 37, 78, 60, 18, 63, 49, 81, 30, 35, 50, 67, 74, 71, 16, 27, 50, 77, 82, 84, 51, 32, 27, 57, 55, 37, 46, 36, 66, 33, 22, 70, 43, 70, 24, 34]\n"
     ]
    }
   ],
   "source": [
    "print(numbers)"
   ]
  },
  {
   "cell_type": "code",
   "execution_count": 45,
   "id": "3ce64154",
   "metadata": {},
   "outputs": [
    {
     "name": "stdout",
     "output_type": "stream",
     "text": [
      "[55, 25, 37, 43, 71, 83, 83, 27, 37, 63, 49, 81, 35, 67, 71, 27, 77, 51, 27, 57, 55, 37, 33, 43]\n"
     ]
    }
   ],
   "source": [
    "odd = list(filter(lambda x: x% 2==1, numbers))\n",
    "print(odd)"
   ]
  },
  {
   "cell_type": "code",
   "execution_count": 46,
   "id": "218d995e",
   "metadata": {},
   "outputs": [
    {
     "name": "stdout",
     "output_type": "stream",
     "text": [
      "[86, 20, 28, 42, 14, 16, 72, 78, 60, 18, 30, 50, 74, 16, 50, 82, 84, 32, 46, 36, 66, 22, 70, 70, 24, 34]\n"
     ]
    }
   ],
   "source": [
    "even = list(filter(lambda x: x% 2==0, numbers))\n",
    "print(even)"
   ]
  },
  {
   "cell_type": "code",
   "execution_count": null,
   "id": "98e878de",
   "metadata": {},
   "outputs": [],
   "source": []
  }
 ],
 "metadata": {
  "kernelspec": {
   "display_name": "Python 3 (ipykernel)",
   "language": "python",
   "name": "python3"
  },
  "language_info": {
   "codemirror_mode": {
    "name": "ipython",
    "version": 3
   },
   "file_extension": ".py",
   "mimetype": "text/x-python",
   "name": "python",
   "nbconvert_exporter": "python",
   "pygments_lexer": "ipython3",
   "version": "3.11.5"
  }
 },
 "nbformat": 4,
 "nbformat_minor": 5
}
