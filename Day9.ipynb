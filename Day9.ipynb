{
 "cells": [
  {
   "cell_type": "code",
   "execution_count": 1,
   "id": "6cd7c327",
   "metadata": {},
   "outputs": [],
   "source": [
    "#create a comprehensive building estimation calculator that involves considering various aspects such as land, cost, materia cost, labor cost, and other expenses.\n",
    "##python exception-to be visit"
   ]
  },
  {
   "cell_type": "code",
   "execution_count": null,
   "id": "cf2bb846",
   "metadata": {},
   "outputs": [],
   "source": [
    "def building_estimation_calculator():\n",
    "    print('WELCOME TO ALLWELL REAL ESTATE MANAGEMENT BUILDING ESTIMATION CALCULATOR')\n",
    "    #GET INPUT FROM USER\n",
    "    try:\n",
    "        land_cost =float(input('Enter the cost of the land: N'))\n",
    "        building_area =float(input('Enter the total area of building (in per meter square):'))\n",
    "        cost_per_meter_sqr =float(input('Enter the cost per meter sqr for the building:'))\n",
    "        material_cost_per =float(input('Entet the percentage of total cost for labor:'))\n",
    "        labor_cost_per =float(input('Enter the percentage of total cost for labor:'))\n",
    "    except ValueError:\n",
    "        print('Please Enter Valid Numerical Values.')\n",
    "    else:\n",
    "        const_cost = cost_per_meter_sqr * building_area\n",
    "        material_cost =(material_cost_per/100) *const_cost\n",
    "        labor_cost =(labor_cost_per/100) * const_cost\n",
    "        totalcost = land_cost + const_cost + material_cost+labor_cost\n",
    "    finally:\n",
    "        print('ESTIMATION RESULT')\n",
    "        print(f'Land Cost: N{land_cost:.2f}')\n",
    "        print(f'Construction Cost: N{cons_cost:.2f}')\n",
    "        print(f'Material Cost at ({material_cost_per:.2f}): N{material_cost:.2f}')\n",
    "        print(f'Labor Cost at ({labor_cost_per}): N{labor_cost:.2f}')\n",
    "        print(f'Total Estimated Cost: N{totalcost:.2f}')\n",
    "    \n",
    "building_estimation_calculator()\n"
   ]
  },
  {
   "cell_type": "code",
   "execution_count": null,
   "id": "8e96cfcb",
   "metadata": {},
   "outputs": [],
   "source": [
    "#Topic: error handling\n",
    "\n",
    "#try block: test the block codes for any potential error\n",
    "#except: returns the kind of error encounter by the try block\n",
    "#else: is dependent on the try block\n",
    "#finally: will always excute regardless of any exception or not"
   ]
  },
  {
   "cell_type": "code",
   "execution_count": 9,
   "id": "b19e5880",
   "metadata": {},
   "outputs": [
    {
     "name": "stdout",
     "output_type": "stream",
     "text": [
      "Enter First Number90\n",
      "Enter Second Number5\n",
      "Choose operation option [+,-,*,/]:/\n",
      "90 / 5 = 18.0\n"
     ]
    }
   ],
   "source": [
    "try:\n",
    "    num1 = int(input('Enter First Number'))\n",
    "    num2 =int(input('Enter Second Number'))\n",
    "    option = input('Choose operation option [+,-,*,/]:')\n",
    "    if option =='+':\n",
    "        print(f'{num1} + {num2} = {num1 + num2}')\n",
    "    \n",
    "    elif option == '-':\n",
    "         print(f'{num1} - {num2} = {num1 - num2}')\n",
    "    \n",
    "    elif option == '*':\n",
    "        print(f'{num1} * {num2} = {num1 * num2}')\n",
    "    \n",
    "    elif option == '/':\n",
    "        print(f'{num1} / {num2} = {num1 / num2}')\n",
    "except:\n",
    "    print('You have encountered one or more errors')\n",
    "    \n",
    "    \n",
    "    "
   ]
  },
  {
   "cell_type": "code",
   "execution_count": 10,
   "id": "ac4f15b3",
   "metadata": {},
   "outputs": [
    {
     "name": "stdout",
     "output_type": "stream",
     "text": [
      "Enter First Number60\n",
      "Enter Second Numberp\n",
      "Wrong value for first or second number only whole is expected\n"
     ]
    }
   ],
   "source": [
    "try:\n",
    "    num1 = int(input('Enter First Number'))\n",
    "    num2 =int(input('Enter Second Number'))\n",
    "    option = input('Choose operation option [+,-,*,/]:')\n",
    "    if option =='+':\n",
    "        print(f'{num1} + {num2} = {num1 + num2}')\n",
    "    \n",
    "    elif option == '-':\n",
    "         print(f'{num1} - {num2} = {num1 - num2}')\n",
    "    \n",
    "    elif option == '*':\n",
    "        print(f'{num1} * {num2} = {num1 * num2}')\n",
    "    \n",
    "    elif option == '/':\n",
    "        print(f'{num1} / {num2} = {num1 / num2}')\n",
    "except ValueError:\n",
    "    print('Wrong value for first or second number only whole is expected')\n",
    "except ZeroDivisionError:\n",
    "    print('sorry you cannot divide a number by 0')\n",
    "    \n",
    "except:\n",
    "    print('You have encountered one or more errors')\n",
    "    \n",
    "    \n",
    "    "
   ]
  },
  {
   "cell_type": "code",
   "execution_count": 11,
   "id": "fdeaf8b2",
   "metadata": {},
   "outputs": [
    {
     "name": "stdout",
     "output_type": "stream",
     "text": [
      "Enter First Number45\n",
      "Enter Second Number5\n",
      "Choose operation option [+,-,*,/]:*\n",
      "45 * 5 = 225\n",
      "184528125\n",
      "End of program.....\n"
     ]
    }
   ],
   "source": [
    "try:\n",
    "    num1 = int(input('Enter First Number'))\n",
    "    num2 =int(input('Enter Second Number'))\n",
    "    option = input('Choose operation option [+,-,*,/]:')\n",
    "    if option =='+':\n",
    "        print(f'{num1} + {num2} = {num1 + num2}')\n",
    "    \n",
    "    elif option == '-':\n",
    "         print(f'{num1} - {num2} = {num1 - num2}')\n",
    "    \n",
    "    elif option == '*':\n",
    "        print(f'{num1} * {num2} = {num1 * num2}')\n",
    "    \n",
    "    elif option == '/':\n",
    "        print(f'{num1} / {num2} = {num1 / num2}')\n",
    "except ValueError:\n",
    "    print('Wrong value for first or second number only whole is expected')\n",
    "except ZeroDivisionError:\n",
    "    print('sorry you cannot divide a number by 0')\n",
    "    \n",
    "except:\n",
    "    print('You have encountered one or more errors')\n",
    "else:\n",
    "    print(num1 ** num2)\n",
    "finally:\n",
    "    print('End of program.....')"
   ]
  },
  {
   "cell_type": "code",
   "execution_count": null,
   "id": "3934df56",
   "metadata": {},
   "outputs": [],
   "source": []
  }
 ],
 "metadata": {
  "kernelspec": {
   "display_name": "Python 3 (ipykernel)",
   "language": "python",
   "name": "python3"
  },
  "language_info": {
   "codemirror_mode": {
    "name": "ipython",
    "version": 3
   },
   "file_extension": ".py",
   "mimetype": "text/x-python",
   "name": "python",
   "nbconvert_exporter": "python",
   "pygments_lexer": "ipython3",
   "version": "3.11.5"
  }
 },
 "nbformat": 4,
 "nbformat_minor": 5
}
