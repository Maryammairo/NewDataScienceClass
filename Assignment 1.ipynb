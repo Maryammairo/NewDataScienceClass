{
 "cells": [
  {
   "cell_type": "code",
   "execution_count": 9,
   "id": "506f1f19",
   "metadata": {},
   "outputs": [
    {
     "name": "stdout",
     "output_type": "stream",
     "text": [
      "{'Date': 9.2024, 'First name': 'Maryam', 'Surname': 'Owodunni', 'Sex': 'Female', 'Age': 32, 'Tribe': 'Hausa', 'Occupation': 'Freelancer'}\n"
     ]
    }
   ],
   "source": [
    "form ={\n",
    "    'Date':9.2024,\n",
    "    'First name': 'Maryam',\n",
    "    'Surname' : 'Owodunni',\n",
    "    'Sex' : 'Female',\n",
    "    'Age' : 32,\n",
    "    'Tribe' : 'Hausa',\n",
    "    'Occupation' : 'Freelancer',\n",
    "    \n",
    "}\n",
    "print(form)"
   ]
  },
  {
   "cell_type": "code",
   "execution_count": 11,
   "id": "d92313b4",
   "metadata": {},
   "outputs": [
    {
     "name": "stdout",
     "output_type": "stream",
     "text": [
      "Ade bought 10 balls for 450.00$ at Place Gate\n"
     ]
    },
    {
     "data": {
      "text/plain": [
       "(None,)"
      ]
     },
     "execution_count": 11,
     "metadata": {},
     "output_type": "execute_result"
    }
   ],
   "source": [
    "print ('Ade bought 10 balls for 450.00$ at Place Gate')"
   ]
  },
  {
   "cell_type": "code",
   "execution_count": null,
   "id": "8a50fd2f",
   "metadata": {},
   "outputs": [],
   "source": [
    " "
   ]
  },
  {
   "cell_type": "code",
   "execution_count": null,
   "id": "c259752d",
   "metadata": {},
   "outputs": [],
   "source": []
  }
 ],
 "metadata": {
  "kernelspec": {
   "display_name": "Python 3 (ipykernel)",
   "language": "python",
   "name": "python3"
  },
  "language_info": {
   "codemirror_mode": {
    "name": "ipython",
    "version": 3
   },
   "file_extension": ".py",
   "mimetype": "text/x-python",
   "name": "python",
   "nbconvert_exporter": "python",
   "pygments_lexer": "ipython3",
   "version": "3.11.5"
  }
 },
 "nbformat": 4,
 "nbformat_minor": 5
}
