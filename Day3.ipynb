{
 "cells": [
  {
   "cell_type": "code",
   "execution_count": 1,
   "id": "76287645",
   "metadata": {},
   "outputs": [],
   "source": [
    "numbers = (14,15,65,60,23,25,85,60,45,48,47,60)"
   ]
  },
  {
   "cell_type": "code",
   "execution_count": 2,
   "id": "ae1a73d2",
   "metadata": {},
   "outputs": [
    {
     "name": "stdout",
     "output_type": "stream",
     "text": [
      "<class 'tuple'>\n"
     ]
    }
   ],
   "source": [
    "print (type(numbers))"
   ]
  },
  {
   "cell_type": "code",
   "execution_count": 3,
   "id": "9bc40910",
   "metadata": {},
   "outputs": [
    {
     "name": "stdout",
     "output_type": "stream",
     "text": [
      "12\n"
     ]
    }
   ],
   "source": [
    "print(len(numbers))"
   ]
  },
  {
   "cell_type": "code",
   "execution_count": 4,
   "id": "fbe1984a",
   "metadata": {},
   "outputs": [
    {
     "name": "stdout",
     "output_type": "stream",
     "text": [
      "25\n"
     ]
    }
   ],
   "source": [
    "print(numbers[5])"
   ]
  },
  {
   "cell_type": "code",
   "execution_count": 5,
   "id": "b9c0a1a7",
   "metadata": {},
   "outputs": [
    {
     "name": "stdout",
     "output_type": "stream",
     "text": [
      "25\n"
     ]
    }
   ],
   "source": [
    "print(numbers[-7])"
   ]
  },
  {
   "cell_type": "code",
   "execution_count": 6,
   "id": "d80c42e1",
   "metadata": {},
   "outputs": [
    {
     "name": "stdout",
     "output_type": "stream",
     "text": [
      "(65, 60, 23, 25, 85)\n"
     ]
    }
   ],
   "source": [
    "print(numbers[2:7])"
   ]
  },
  {
   "cell_type": "code",
   "execution_count": 7,
   "id": "b4fda3ab",
   "metadata": {},
   "outputs": [
    {
     "name": "stdout",
     "output_type": "stream",
     "text": [
      "False\n"
     ]
    }
   ],
   "source": [
    "print(100 in numbers)"
   ]
  },
  {
   "cell_type": "code",
   "execution_count": 8,
   "id": "b883dbf3",
   "metadata": {},
   "outputs": [
    {
     "name": "stdout",
     "output_type": "stream",
     "text": [
      "3\n"
     ]
    }
   ],
   "source": [
    "print(numbers.count(60))"
   ]
  },
  {
   "cell_type": "code",
   "execution_count": 9,
   "id": "2c26ae81",
   "metadata": {},
   "outputs": [
    {
     "name": "stdout",
     "output_type": "stream",
     "text": [
      "6\n"
     ]
    }
   ],
   "source": [
    "print(numbers.index(85))"
   ]
  },
  {
   "cell_type": "code",
   "execution_count": 14,
   "id": "8e229cf6",
   "metadata": {},
   "outputs": [],
   "source": [
    "shopA= ['Apple','Bucket','Strawberry','Lemon','Banana']"
   ]
  },
  {
   "cell_type": "code",
   "execution_count": 15,
   "id": "924f3265",
   "metadata": {
    "scrolled": true
   },
   "outputs": [
    {
     "name": "stdout",
     "output_type": "stream",
     "text": [
      "['Apple', 'Bucket', 'Strawberry', 'Lemon', 'Banana', 'orange']\n"
     ]
    }
   ],
   "source": [
    "shopA.append('orange')\n",
    "print (shopA)"
   ]
  },
  {
   "cell_type": "code",
   "execution_count": 16,
   "id": "1fe0a4ed",
   "metadata": {},
   "outputs": [
    {
     "name": "stdout",
     "output_type": "stream",
     "text": [
      "['Apple', 'Bucket', 'Pen', 'Strawberry', 'Lemon', 'Banana', 'orange']\n"
     ]
    }
   ],
   "source": [
    "shopA.insert(2, 'Pen')\n",
    "print(shopA)"
   ]
  },
  {
   "cell_type": "code",
   "execution_count": 17,
   "id": "f7c09400",
   "metadata": {},
   "outputs": [
    {
     "name": "stdout",
     "output_type": "stream",
     "text": [
      "['Apple', 'Bucket', 'Pen', 'Strawberry', 'Lemon', 'Banana', 'orange', 'Banana', 'Pear', 'Orange']\n"
     ]
    }
   ],
   "source": [
    "shopB= ['Banana','Pear','Orange']\n",
    "shopA.extend(shopB)\n",
    "print(shopA)"
   ]
  },
  {
   "cell_type": "code",
   "execution_count": 18,
   "id": "48b0cded",
   "metadata": {},
   "outputs": [
    {
     "name": "stdout",
     "output_type": "stream",
     "text": [
      "['Apple', 'Bucket', 'Pen', 'Lemon', 'Banana', 'orange', 'Banana', 'Pear', 'Orange']\n"
     ]
    }
   ],
   "source": [
    "shopA.pop(3)\n",
    "print(shopA)"
   ]
  },
  {
   "cell_type": "code",
   "execution_count": 19,
   "id": "5bcc4cae",
   "metadata": {},
   "outputs": [
    {
     "name": "stdout",
     "output_type": "stream",
     "text": [
      "['Apple', 'Bucket', 'Pen', 'Lemon', 'orange', 'Banana', 'Pear', 'Orange']\n"
     ]
    }
   ],
   "source": [
    "shopA.remove('Banana')\n",
    "print(shopA)"
   ]
  },
  {
   "cell_type": "code",
   "execution_count": 20,
   "id": "a31d5e71",
   "metadata": {},
   "outputs": [
    {
     "name": "stdout",
     "output_type": "stream",
     "text": [
      "['Apple', 'Banana', 'Bucket', 'Lemon', 'Orange', 'Pear', 'Pen', 'orange']\n"
     ]
    }
   ],
   "source": [
    "shopA.sort()\n",
    "print(shopA)"
   ]
  },
  {
   "cell_type": "code",
   "execution_count": 21,
   "id": "f15658d0",
   "metadata": {},
   "outputs": [
    {
     "name": "stdout",
     "output_type": "stream",
     "text": [
      "['orange', 'Pen', 'Pear', 'Orange', 'Lemon', 'Bucket', 'Banana', 'Apple']\n"
     ]
    }
   ],
   "source": [
    "shopA.reverse()\n",
    "print(shopA)"
   ]
  },
  {
   "cell_type": "code",
   "execution_count": 22,
   "id": "1d492579",
   "metadata": {},
   "outputs": [
    {
     "name": "stdout",
     "output_type": "stream",
     "text": [
      "['orange', 'Pen', 'Pear', 'Orange', 'Lemon', 'Bucket', 'Banana', 'Apple']\n"
     ]
    }
   ],
   "source": [
    "shopC =shopA.copy()\n",
    "print(shopC)"
   ]
  },
  {
   "cell_type": "code",
   "execution_count": 23,
   "id": "6b1a65e4",
   "metadata": {},
   "outputs": [
    {
     "name": "stdout",
     "output_type": "stream",
     "text": [
      "[]\n"
     ]
    }
   ],
   "source": [
    "shopC.clear()\n",
    "print(shopC)"
   ]
  },
  {
   "cell_type": "code",
   "execution_count": 24,
   "id": "e5403cff",
   "metadata": {},
   "outputs": [
    {
     "ename": "NameError",
     "evalue": "name 'shopC' is not defined",
     "output_type": "error",
     "traceback": [
      "\u001b[1;31m---------------------------------------------------------------------------\u001b[0m",
      "\u001b[1;31mNameError\u001b[0m                                 Traceback (most recent call last)",
      "Cell \u001b[1;32mIn[24], line 2\u001b[0m\n\u001b[0;32m      1\u001b[0m \u001b[38;5;28;01mdel\u001b[39;00m(shopC)\n\u001b[1;32m----> 2\u001b[0m \u001b[38;5;28mprint\u001b[39m(shopC)\n",
      "\u001b[1;31mNameError\u001b[0m: name 'shopC' is not defined"
     ]
    }
   ],
   "source": [
    "del(shopC)\n",
    "print(shopC)"
   ]
  },
  {
   "cell_type": "code",
   "execution_count": 26,
   "id": "74408646",
   "metadata": {},
   "outputs": [
    {
     "name": "stdout",
     "output_type": "stream",
     "text": [
      "1.56\n"
     ]
    }
   ],
   "source": [
    "records ={\n",
    "    'Name':'Fatima',\n",
    "    'Age': 45,\n",
    "    'Gender':'Female',\n",
    "    'Height':1.56,\n",
    "    'Weight':60.5\n",
    "    \n",
    "}\n",
    "print(records['Height'])"
   ]
  },
  {
   "cell_type": "code",
   "execution_count": 27,
   "id": "8da3618f",
   "metadata": {},
   "outputs": [
    {
     "name": "stdout",
     "output_type": "stream",
     "text": [
      "{'Name': 'Fatima', 'Age': 45, 'Gender': 'Female', 'Height': 1.56, 'Weight': 60.5, 'Address': 'No 25 Highway Street'}\n"
     ]
    }
   ],
   "source": [
    "records['Address'] ='No 25 Highway Street'\n",
    "print (records)"
   ]
  },
  {
   "cell_type": "code",
   "execution_count": 29,
   "id": "51ac1860",
   "metadata": {},
   "outputs": [
    {
     "name": "stdout",
     "output_type": "stream",
     "text": [
      "{'Name': 'Fatima', 'Age': 45, 'Gender': 'Female', 'Height': 1.65, 'Weight': 60.5, 'Address': 'No 25 Highway Street'}\n"
     ]
    }
   ],
   "source": [
    "records['Height'] = 1.65\n",
    "print(records)"
   ]
  },
  {
   "cell_type": "code",
   "execution_count": 30,
   "id": "18090804",
   "metadata": {},
   "outputs": [
    {
     "name": "stdout",
     "output_type": "stream",
     "text": [
      "{'Name': 'Fatima', 'Age': 45, 'Gender': 'Female', 'Height': 1.66, 'Weight': 60.5, 'Address': 'No 25 Highway Street'}\n"
     ]
    }
   ],
   "source": [
    "newval = {'Height':1.66}\n",
    "records.update(newval)\n",
    "print(records)"
   ]
  },
  {
   "cell_type": "code",
   "execution_count": 31,
   "id": "164821ca",
   "metadata": {},
   "outputs": [
    {
     "name": "stdout",
     "output_type": "stream",
     "text": [
      "{'Name': 'Fatima', 'Age': 45, 'Gender': 'Female', 'Height': 1.66, 'Weight': 60.5}\n"
     ]
    }
   ],
   "source": [
    "records.popitem()\n",
    "print(records)"
   ]
  },
  {
   "cell_type": "code",
   "execution_count": 33,
   "id": "20afd4fc",
   "metadata": {},
   "outputs": [
    {
     "name": "stdout",
     "output_type": "stream",
     "text": [
      "{'Name': 'Fatima', 'Gender': 'Female', 'Height': 1.66, 'Weight': 60.5}\n"
     ]
    }
   ],
   "source": [
    "records.pop('Age')\n",
    "print(records)"
   ]
  },
  {
   "cell_type": "code",
   "execution_count": 34,
   "id": "2161d2ce",
   "metadata": {},
   "outputs": [
    {
     "name": "stdout",
     "output_type": "stream",
     "text": [
      "dict_keys(['Name', 'Gender', 'Height', 'Weight'])\n"
     ]
    }
   ],
   "source": [
    "print(records.keys())"
   ]
  },
  {
   "cell_type": "code",
   "execution_count": 36,
   "id": "e41deb69",
   "metadata": {},
   "outputs": [
    {
     "name": "stdout",
     "output_type": "stream",
     "text": [
      "dict_values(['Fatima', 'Female', 1.66, 60.5])\n"
     ]
    }
   ],
   "source": [
    "print(records.values())"
   ]
  },
  {
   "cell_type": "code",
   "execution_count": 37,
   "id": "7e87c265",
   "metadata": {},
   "outputs": [
    {
     "name": "stdout",
     "output_type": "stream",
     "text": [
      "dict_items([('Name', 'Fatima'), ('Gender', 'Female'), ('Height', 1.66), ('Weight', 60.5)])\n"
     ]
    }
   ],
   "source": [
    "print(records.items())"
   ]
  },
  {
   "cell_type": "code",
   "execution_count": 38,
   "id": "d3561ef9",
   "metadata": {},
   "outputs": [
    {
     "name": "stdout",
     "output_type": "stream",
     "text": [
      "Bisi\n"
     ]
    }
   ],
   "source": [
    "records= {\n",
    "    'Name':['Ade','Bisi','James'],\n",
    "}\n",
    "print(records['Name'][1])"
   ]
  },
  {
   "cell_type": "code",
   "execution_count": null,
   "id": "a928bb62",
   "metadata": {},
   "outputs": [],
   "source": []
  }
 ],
 "metadata": {
  "kernelspec": {
   "display_name": "Python 3 (ipykernel)",
   "language": "python",
   "name": "python3"
  },
  "language_info": {
   "codemirror_mode": {
    "name": "ipython",
    "version": 3
   },
   "file_extension": ".py",
   "mimetype": "text/x-python",
   "name": "python",
   "nbconvert_exporter": "python",
   "pygments_lexer": "ipython3",
   "version": "3.11.5"
  }
 },
 "nbformat": 4,
 "nbformat_minor": 5
}
