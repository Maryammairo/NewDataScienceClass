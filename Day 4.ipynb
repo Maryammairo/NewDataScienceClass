{
 "cells": [
  {
   "cell_type": "code",
   "execution_count": 2,
   "id": "bdf03503",
   "metadata": {},
   "outputs": [
    {
     "name": "stdout",
     "output_type": "stream",
     "text": [
      "['__doc__', '__loader__', '__name__', '__package__', '__spec__', 'acos', 'acosh', 'asin', 'asinh', 'atan', 'atan2', 'atanh', 'cbrt', 'ceil', 'comb', 'copysign', 'cos', 'cosh', 'degrees', 'dist', 'e', 'erf', 'erfc', 'exp', 'exp2', 'expm1', 'fabs', 'factorial', 'floor', 'fmod', 'frexp', 'fsum', 'gamma', 'gcd', 'hypot', 'inf', 'isclose', 'isfinite', 'isinf', 'isnan', 'isqrt', 'lcm', 'ldexp', 'lgamma', 'log', 'log10', 'log1p', 'log2', 'modf', 'nan', 'nextafter', 'perm', 'pi', 'pow', 'prod', 'radians', 'remainder', 'sin', 'sinh', 'sqrt', 'tan', 'tanh', 'tau', 'trunc', 'ulp']\n"
     ]
    }
   ],
   "source": [
    "import math\n",
    "print(dir(math))"
   ]
  },
  {
   "cell_type": "code",
   "execution_count": 34,
   "id": "d949a999",
   "metadata": {},
   "outputs": [
    {
     "data": {
      "text/plain": [
       "'This module provides access to the mathematical functions\\ndefined by the C standard.'"
      ]
     },
     "execution_count": 34,
     "metadata": {},
     "output_type": "execute_result"
    }
   ],
   "source": [
    "math.__doc__"
   ]
  },
  {
   "cell_type": "code",
   "execution_count": 9,
   "id": "de86ecf4",
   "metadata": {},
   "outputs": [
    {
     "name": "stdout",
     "output_type": "stream",
     "text": [
      "14\n",
      "15\n",
      "-0.47312369706467594\n"
     ]
    }
   ],
   "source": [
    "number=14.63\n",
    "print(math.floor(number))\n",
    "print(math.ceil(number))\n",
    "print(math.cos(number))"
   ]
  },
  {
   "cell_type": "code",
   "execution_count": 11,
   "id": "a57415f8",
   "metadata": {},
   "outputs": [
    {
     "name": "stdout",
     "output_type": "stream",
     "text": [
      "['Counter', 'Decimal', 'Fraction', 'LinearRegression', 'NormalDist', 'StatisticsError', '_SQRT2', '__all__', '__annotations__', '__builtins__', '__cached__', '__doc__', '__file__', '__loader__', '__name__', '__package__', '__spec__', '_coerce', '_convert', '_decimal_sqrt_of_frac', '_exact_ratio', '_fail_neg', '_float_sqrt_of_frac', '_integer_sqrt_of_frac_rto', '_isfinite', '_mean_stdev', '_normal_dist_inv_cdf', '_sqrt_bit_width', '_ss', '_sum', 'bisect_left', 'bisect_right', 'correlation', 'covariance', 'defaultdict', 'erf', 'exp', 'fabs', 'fmean', 'fsum', 'geometric_mean', 'groupby', 'harmonic_mean', 'hypot', 'linear_regression', 'log', 'math', 'mean', 'median', 'median_grouped', 'median_high', 'median_low', 'mode', 'mul', 'multimode', 'namedtuple', 'numbers', 'pstdev', 'pvariance', 'quantiles', 'random', 'reduce', 'repeat', 'sqrt', 'stdev', 'sys', 'tau', 'variance']\n"
     ]
    }
   ],
   "source": [
    "import statistics as stat\n",
    "print(dir(stat))"
   ]
  },
  {
   "cell_type": "code",
   "execution_count": 13,
   "id": "f89822b9",
   "metadata": {},
   "outputs": [
    {
     "name": "stdout",
     "output_type": "stream",
     "text": [
      "81.33333333333333\n"
     ]
    }
   ],
   "source": [
    "score=[87,98,56,92,70,85]\n",
    "print(stat.mean(score))"
   ]
  },
  {
   "cell_type": "code",
   "execution_count": 16,
   "id": "86a38b43",
   "metadata": {},
   "outputs": [
    {
     "name": "stdout",
     "output_type": "stream",
     "text": [
      "['BPF', 'LOG4', 'NV_MAGICCONST', 'RECIP_BPF', 'Random', 'SG_MAGICCONST', 'SystemRandom', 'TWOPI', '_ONE', '_Sequence', '_Set', '__all__', '__builtins__', '__cached__', '__doc__', '__file__', '__loader__', '__name__', '__package__', '__spec__', '_accumulate', '_acos', '_bisect', '_ceil', '_cos', '_e', '_exp', '_floor', '_index', '_inst', '_isfinite', '_log', '_os', '_pi', '_random', '_repeat', '_sha512', '_sin', '_sqrt', '_test', '_test_generator', '_urandom', '_warn', 'betavariate', 'choice', 'choices', 'expovariate', 'gammavariate', 'gauss', 'getrandbits', 'getstate', 'lognormvariate', 'normalvariate', 'paretovariate', 'randbytes', 'randint', 'random', 'randrange', 'sample', 'seed', 'setstate', 'shuffle', 'triangular', 'uniform', 'vonmisesvariate', 'weibullvariate']\n"
     ]
    }
   ],
   "source": [
    "import random as rn\n",
    "print(dir(rn))"
   ]
  },
  {
   "cell_type": "code",
   "execution_count": 17,
   "id": "12584919",
   "metadata": {},
   "outputs": [],
   "source": [
    "# string,,re,datetime"
   ]
  },
  {
   "cell_type": "code",
   "execution_count": 23,
   "id": "6b51f6df",
   "metadata": {},
   "outputs": [
    {
     "name": "stdout",
     "output_type": "stream",
     "text": [
      "please enter chiken weight in KG1\n",
      "Your total price is 2000.0\n"
     ]
    }
   ],
   "source": [
    "chickenKG = float(input('please enter chiken weight in KG'))\n",
    "perkgprice = 2000\n",
    "if chickenKG >=1:\n",
    "    print(f'Your total price is {chickenKG * perkgprice}')\n",
    "#Note About the if condition:'for the if only condition the expression is returned only if the preset condition is true and no outcome if the preset is false'\n",
    "\n"
   ]
  },
  {
   "cell_type": "code",
   "execution_count": 25,
   "id": "a02365ec",
   "metadata": {},
   "outputs": [
    {
     "name": "stdout",
     "output_type": "stream",
     "text": [
      "please enter chiken weight in KG1\n",
      "Your total price is 2000.0\n"
     ]
    }
   ],
   "source": [
    "chickenKG = float(input('please enter chiken weight in KG'))\n",
    "perkgprice = 2000\n",
    "if chickenKG >=1:\n",
    "    print(f'Your total price is {chickenKG * perkgprice}')\n",
    "else:\n",
    "    print('You are free to go the chicken kg is not a chargeable amount')\n",
    "    #Note About the if else condition:'for the if else condition the expression is returned if the if preset condition is true and the expression under the else is returned if the condition is false '\n",
    "\n"
   ]
  },
  {
   "cell_type": "code",
   "execution_count": 30,
   "id": "72a4526d",
   "metadata": {},
   "outputs": [
    {
     "name": "stdout",
     "output_type": "stream",
     "text": [
      "Shipment Region:South South\n",
      "Item Weight in KG:4\n",
      "Item Condition:Non Fragile\n",
      "Item Quantity:6\n",
      "Enter item cost:5000\n",
      "Total cost plus shipment is 30192.0\n"
     ]
    }
   ],
   "source": [
    "region = input('Shipment Region:')\n",
    "weight = float(input('Item Weight in KG:'))\n",
    "condition = input('Item Condition:')\n",
    "quantity = float(input('Item Quantity:'))\n",
    "costperitem = float(input('Enter item cost:'))\n",
    "if region == 'south south' and condition == 'Fragile':\n",
    "    print(f'Total cost plus shipment is {(weight * 10 * quantity) + (quantity * costperitem )}')\n",
    "elif region == 'South South' and condition =='Non Fragile':\n",
    "    print(f'Total cost plus shipment is {(weight * 8 * quantity) + (quantity * costperitem)}')\n",
    "elif region == 'South South' and condition =='Non Fragile':\n",
    "    print(f'Total Cost plus shipment is {(weight * 9 * quantity) + (quantity * costperitem)}')\n",
    "elif region == 'South East' and condition == 'Fragile':\n",
    "    print(f'Total Cost plus shipment is {(weight * 12 * quantity) + (quantity * costperitem)}')"
   ]
  },
  {
   "cell_type": "code",
   "execution_count": null,
   "id": "ac2d4537",
   "metadata": {},
   "outputs": [],
   "source": []
  },
  {
   "cell_type": "code",
   "execution_count": null,
   "id": "9f31f2fd",
   "metadata": {},
   "outputs": [],
   "source": []
  }
 ],
 "metadata": {
  "kernelspec": {
   "display_name": "Python 3 (ipykernel)",
   "language": "python",
   "name": "python3"
  },
  "language_info": {
   "codemirror_mode": {
    "name": "ipython",
    "version": 3
   },
   "file_extension": ".py",
   "mimetype": "text/x-python",
   "name": "python",
   "nbconvert_exporter": "python",
   "pygments_lexer": "ipython3",
   "version": "3.11.5"
  }
 },
 "nbformat": 4,
 "nbformat_minor": 5
}
