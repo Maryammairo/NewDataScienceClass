{
 "cells": [
  {
   "cell_type": "code",
   "execution_count": 2,
   "id": "c3947e6e",
   "metadata": {},
   "outputs": [
    {
     "name": "stdout",
     "output_type": "stream",
     "text": [
      "enter your usernameMARYAMKAY\n"
     ]
    },
    {
     "data": {
      "text/plain": [
       "' MARYAMKAY starts with uppercase and has a lenght of 8 above'"
      ]
     },
     "execution_count": 2,
     "metadata": {},
     "output_type": "execute_result"
    }
   ],
   "source": [
    "(lambda username: f' {username} starts with uppercase and has a lenght of 8 above' if username == username.upper()\n",
    " else f'username not in uppercase')(input('enter your username'))"
   ]
  },
  {
   "cell_type": "code",
   "execution_count": 10,
   "id": "ccf4710d",
   "metadata": {},
   "outputs": [
    {
     "ename": "AttributeError",
     "evalue": "'int' object has no attribute 'squareroot'",
     "output_type": "error",
     "traceback": [
      "\u001b[1;31m---------------------------------------------------------------------------\u001b[0m",
      "\u001b[1;31mAttributeError\u001b[0m                            Traceback (most recent call last)",
      "Cell \u001b[1;32mIn[10], line 2\u001b[0m\n\u001b[0;32m      1\u001b[0m squareroot \u001b[38;5;241m=\u001b[39m [\u001b[38;5;241m86\u001b[39m, \u001b[38;5;241m20\u001b[39m, \u001b[38;5;241m28\u001b[39m, \u001b[38;5;241m42\u001b[39m, \u001b[38;5;241m14\u001b[39m, \u001b[38;5;241m16\u001b[39m, \u001b[38;5;241m72\u001b[39m, \u001b[38;5;241m78\u001b[39m, \u001b[38;5;241m60\u001b[39m, \u001b[38;5;241m18\u001b[39m, \u001b[38;5;241m30\u001b[39m, \u001b[38;5;241m50\u001b[39m, \u001b[38;5;241m74\u001b[39m, \u001b[38;5;241m16\u001b[39m, \u001b[38;5;241m50\u001b[39m, \u001b[38;5;241m82\u001b[39m, \u001b[38;5;241m84\u001b[39m, \u001b[38;5;241m32\u001b[39m, \u001b[38;5;241m46\u001b[39m, \u001b[38;5;241m36\u001b[39m, \u001b[38;5;241m66\u001b[39m, \u001b[38;5;241m22\u001b[39m, \u001b[38;5;241m70\u001b[39m, \u001b[38;5;241m70\u001b[39m, \u001b[38;5;241m24\u001b[39m, \u001b[38;5;241m34\u001b[39m]\n\u001b[1;32m----> 2\u001b[0m squareroot \u001b[38;5;241m=\u001b[39m \u001b[38;5;28mlist\u001b[39m(\u001b[38;5;28mmap\u001b[39m(\u001b[38;5;28;01mlambda\u001b[39;00m x: x\u001b[38;5;241m.\u001b[39msquareroot(), squareroot))\n\u001b[0;32m      3\u001b[0m \u001b[38;5;28mprint\u001b[39m(squareroot)\n",
      "Cell \u001b[1;32mIn[10], line 2\u001b[0m, in \u001b[0;36m<lambda>\u001b[1;34m(x)\u001b[0m\n\u001b[0;32m      1\u001b[0m squareroot \u001b[38;5;241m=\u001b[39m [\u001b[38;5;241m86\u001b[39m, \u001b[38;5;241m20\u001b[39m, \u001b[38;5;241m28\u001b[39m, \u001b[38;5;241m42\u001b[39m, \u001b[38;5;241m14\u001b[39m, \u001b[38;5;241m16\u001b[39m, \u001b[38;5;241m72\u001b[39m, \u001b[38;5;241m78\u001b[39m, \u001b[38;5;241m60\u001b[39m, \u001b[38;5;241m18\u001b[39m, \u001b[38;5;241m30\u001b[39m, \u001b[38;5;241m50\u001b[39m, \u001b[38;5;241m74\u001b[39m, \u001b[38;5;241m16\u001b[39m, \u001b[38;5;241m50\u001b[39m, \u001b[38;5;241m82\u001b[39m, \u001b[38;5;241m84\u001b[39m, \u001b[38;5;241m32\u001b[39m, \u001b[38;5;241m46\u001b[39m, \u001b[38;5;241m36\u001b[39m, \u001b[38;5;241m66\u001b[39m, \u001b[38;5;241m22\u001b[39m, \u001b[38;5;241m70\u001b[39m, \u001b[38;5;241m70\u001b[39m, \u001b[38;5;241m24\u001b[39m, \u001b[38;5;241m34\u001b[39m]\n\u001b[1;32m----> 2\u001b[0m squareroot \u001b[38;5;241m=\u001b[39m \u001b[38;5;28mlist\u001b[39m(\u001b[38;5;28mmap\u001b[39m(\u001b[38;5;28;01mlambda\u001b[39;00m x: x\u001b[38;5;241m.\u001b[39msquareroot(), squareroot))\n\u001b[0;32m      3\u001b[0m \u001b[38;5;28mprint\u001b[39m(squareroot)\n",
      "\u001b[1;31mAttributeError\u001b[0m: 'int' object has no attribute 'squareroot'"
     ]
    }
   ],
   "source": [
    "squareroot = [86, 20, 28, 42, 14, 16, 72, 78, 60, 18, 30, 50, 74, 16, 50, 82, 84, 32, 46, 36, 66, 22, 70, 70, 24, 34]\n",
    "squareroot = list(map(lambda x: x.squareroot(), squareroot))\n",
    "print(squareroot)"
   ]
  },
  {
   "cell_type": "code",
   "execution_count": null,
   "id": "8678f504",
   "metadata": {},
   "outputs": [],
   "source": []
  },
  {
   "cell_type": "code",
   "execution_count": null,
   "id": "03375d91",
   "metadata": {},
   "outputs": [],
   "source": []
  }
 ],
 "metadata": {
  "kernelspec": {
   "display_name": "Python 3 (ipykernel)",
   "language": "python",
   "name": "python3"
  },
  "language_info": {
   "codemirror_mode": {
    "name": "ipython",
    "version": 3
   },
   "file_extension": ".py",
   "mimetype": "text/x-python",
   "name": "python",
   "nbconvert_exporter": "python",
   "pygments_lexer": "ipython3",
   "version": "3.11.5"
  }
 },
 "nbformat": 4,
 "nbformat_minor": 5
}
