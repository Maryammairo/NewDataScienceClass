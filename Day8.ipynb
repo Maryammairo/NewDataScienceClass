{
 "cells": [
  {
   "cell_type": "code",
   "execution_count": 1,
   "id": "252be113",
   "metadata": {},
   "outputs": [],
   "source": [
    "#object oriented programing\n",
    "#objec is an instance of a class\n",
    "#at the of each class you must create an object\n",
    "#A class is classify in two; an attribute and behavour(method)"
   ]
  },
  {
   "cell_type": "code",
   "execution_count": 2,
   "id": "75806d1c",
   "metadata": {},
   "outputs": [
    {
     "data": {
      "text/plain": [
       "'Ade'"
      ]
     },
     "execution_count": 2,
     "metadata": {},
     "output_type": "execute_result"
    }
   ],
   "source": [
    "class person:\n",
    "    attr1= 'Ade'\n",
    "    attr2= 45\n",
    "ob=person()\n",
    "ob.attr1"
   ]
  },
  {
   "cell_type": "code",
   "execution_count": 3,
   "id": "1656c29c",
   "metadata": {},
   "outputs": [],
   "source": [
    "class person:\n",
    "    attr1= 'Ade'\n",
    "    attr2= 45\n",
    "    def details(self):\n",
    "        print(f'''________________PERSON DETAILS___________________\n",
    "NAME: {self.attr1}\n",
    "AGE:{self.attr2}\n",
    "''')\n",
    "ob=person()"
   ]
  },
  {
   "cell_type": "code",
   "execution_count": 4,
   "id": "52f3fe22",
   "metadata": {},
   "outputs": [
    {
     "name": "stdout",
     "output_type": "stream",
     "text": [
      "________________PERSON DETAILS___________________\n",
      "NAME: Ade\n",
      "AGE:45\n",
      "\n"
     ]
    }
   ],
   "source": [
    "ob.details()"
   ]
  },
  {
   "cell_type": "code",
   "execution_count": 14,
   "id": "8073d92f",
   "metadata": {},
   "outputs": [
    {
     "name": "stdout",
     "output_type": "stream",
     "text": [
      "Enter your app passwor:2256\n",
      "OPERATION LIST\n",
      "1. DEPOSIT\n",
      "2. TRANSFER\n",
      "3. AIRTIME\n",
      "4. DATA\n",
      "5. CHECKBALANCE\n",
      "6. QUIT\n",
      "\n",
      "Enter Operation Choice:deposit\n",
      "Enter deposit amount30000\n",
      "Transaction Successful\n",
      "OPERATION LIST\n",
      "1. DEPOSIT\n",
      "2. TRANSFER\n",
      "3. AIRTIME\n",
      "4. DATA\n",
      "5. CHECKBALANCE\n",
      "6. QUIT\n",
      "\n",
      "Enter Operation Choice:transfer\n",
      "Enter transfer amount:3000\n",
      "Transaction Succefull\n",
      "OPERATION LIST\n",
      "1. DEPOSIT\n",
      "2. TRANSFER\n",
      "3. AIRTIME\n",
      "4. DATA\n",
      "5. CHECKBALANCE\n",
      "6. QUIT\n",
      "\n",
      "Enter Operation Choice:airtime\n",
      "Enter airtime amount:4000\n",
      "Transaction Succefull\n",
      "OPERATION LIST\n",
      "1. DEPOSIT\n",
      "2. TRANSFER\n",
      "3. AIRTIME\n",
      "4. DATA\n",
      "5. CHECKBALANCE\n",
      "6. QUIT\n",
      "\n",
      "Enter Operation Choice:data\n",
      "Enter data amount:1000\n",
      "Transaction Succefull\n",
      "OPERATION LIST\n",
      "1. DEPOSIT\n",
      "2. TRANSFER\n",
      "3. AIRTIME\n",
      "4. DATA\n",
      "5. CHECKBALANCE\n",
      "6. QUIT\n",
      "\n",
      "Enter Operation Choice:checkbalance\n",
      "Your Avaliable Balance is22000.0\n",
      "OPERATION LIST\n",
      "1. DEPOSIT\n",
      "2. TRANSFER\n",
      "3. AIRTIME\n",
      "4. DATA\n",
      "5. CHECKBALANCE\n",
      "6. QUIT\n",
      "\n",
      "Enter Operation Choice:quit\n"
     ]
    }
   ],
   "source": [
    "class EARLYCODEMONIAPP:\n",
    "    def __init__(self):\n",
    "        self.balance = 0\n",
    "    def deposit(self):\n",
    "        amount = float(input('Enter deposit amount'))\n",
    "        self.balance += amount\n",
    "        print('Transaction Successful')\n",
    "        \n",
    "    def transfer(self):\n",
    "        amount =float(input('Enter transfer amount:'))\n",
    "        if amount > self.balance or amount == 0:\n",
    "            print('Transantion Failed, Insufficent Fund.....')\n",
    "        else:\n",
    "            self.balance -= amount\n",
    "            print('Transaction Succefull')\n",
    "            \n",
    "    def airtime(self):\n",
    "        amount =float(input('Enter airtime amount:'))\n",
    "        if amount > self.balance or amount == 0:\n",
    "            print('Transantion Failed, Insufficent Fund.....')\n",
    "        else:\n",
    "            self.balance -= amount\n",
    "            print('Transaction Succefull')\n",
    "        \n",
    "    def data(self):\n",
    "        amount =float(input('Enter data amount:'))\n",
    "        if amount > self.balance or amount == 0:\n",
    "            print('Transantion Failed, Insufficent Fund.....')\n",
    "        else:\n",
    "            self.balance -= amount\n",
    "            print('Transaction Succefull')\n",
    "            \n",
    "    def checkbalance(self):\n",
    "        print(f'Your Avaliable Balance is{self.balance}')\n",
    "app =EARLYCODEMONIAPP()\n",
    "operation = True\n",
    "passid ='2256'\n",
    "password = input('Enter your app passwor:')\n",
    "if passid == password:\n",
    "    while operation:\n",
    "        print('''OPERATION LIST\n",
    "1. DEPOSIT\n",
    "2. TRANSFER\n",
    "3. AIRTIME\n",
    "4. DATA\n",
    "5. CHECKBALANCE\n",
    "6. QUIT\n",
    "''')\n",
    "        choice = input('Enter Operation Choice:')\n",
    "        if choice == 'deposit':\n",
    "            app.deposit()\n",
    "        elif choice == 'transfer':\n",
    "            app.transfer()\n",
    "        elif choice == 'airtime':\n",
    "            app.airtime()\n",
    "        elif choice == 'data':\n",
    "            app.data()\n",
    "        elif choice == 'checkbalance':\n",
    "            app.checkbalance()\n",
    "        elif choice == 'quit':\n",
    "            operation = False\n",
    "            print('Login Out Of App')\n",
    "            break\n",
    "else:\n",
    "    print('Invalid Password')"
   ]
  },
  {
   "cell_type": "code",
   "execution_count": 16,
   "id": "870a50ef",
   "metadata": {},
   "outputs": [],
   "source": [
    "#Inheritance\n",
    "#Types- parnet class and achild class"
   ]
  },
  {
   "cell_type": "code",
   "execution_count": 17,
   "id": "2ca39df1",
   "metadata": {},
   "outputs": [],
   "source": [
    "class phonesimulation:\n",
    "    def __init__(self,brand,model,color,year):\n",
    "        self.brand = brand\n",
    "        self.model = model\n",
    "        self.color = color\n",
    "        self.year = year\n",
    "    def audio(self):\n",
    "        option = input('Enter audio option')\n",
    "        if option == 'play':\n",
    "            print('Audio playing')\n",
    "        elif option == 'stop':\n",
    "            print('Audio stop playin')\n",
    "phone1 =phonesimulation('Tecno','Camon 20 pro','Black',2023)"
   ]
  },
  {
   "cell_type": "code",
   "execution_count": 18,
   "id": "8403b521",
   "metadata": {},
   "outputs": [
    {
     "name": "stdout",
     "output_type": "stream",
     "text": [
      "Enter audio optionplay\n",
      "Audio playing\n"
     ]
    }
   ],
   "source": [
    "phone1.audio()"
   ]
  },
  {
   "cell_type": "code",
   "execution_count": 2,
   "id": "21c8ab1f",
   "metadata": {},
   "outputs": [
    {
     "ename": "NameError",
     "evalue": "name 'phonesimulation' is not defined",
     "output_type": "error",
     "traceback": [
      "\u001b[1;31m---------------------------------------------------------------------------\u001b[0m",
      "\u001b[1;31mNameError\u001b[0m                                 Traceback (most recent call last)",
      "Cell \u001b[1;32mIn[2], line 1\u001b[0m\n\u001b[1;32m----> 1\u001b[0m \u001b[38;5;28;01mclass\u001b[39;00m \u001b[38;5;21;01manothersimulation\u001b[39;00m(phonesimulation):\n\u001b[0;32m      2\u001b[0m     \u001b[38;5;28;01mdef\u001b[39;00m \u001b[38;5;21mcamera\u001b[39m(\u001b[38;5;28mself\u001b[39m):\n\u001b[0;32m      3\u001b[0m         option \u001b[38;5;241m=\u001b[39m \u001b[38;5;28minput\u001b[39m(\u001b[38;5;124m'\u001b[39m\u001b[38;5;124mEnter Camera option\u001b[39m\u001b[38;5;124m'\u001b[39m)\n",
      "\u001b[1;31mNameError\u001b[0m: name 'phonesimulation' is not defined"
     ]
    }
   ],
   "source": [
    "class anothersimulation(phonesimulation):\n",
    "    def camera(self):\n",
    "        option = input('Enter Camera option')\n",
    "        if option == 'selfie':\n",
    "            print('Front Rear Camera Activated')\n",
    "        elif option == 'normal':\n",
    "            print('Back Rear Camera Activated')\n",
    "phone2 = anothersimulation('Tecno','Camon 20 Pro','Black',2024)"
   ]
  },
  {
   "cell_type": "code",
   "execution_count": 3,
   "id": "4e65e887",
   "metadata": {},
   "outputs": [
    {
     "ename": "NameError",
     "evalue": "name 'phone2' is not defined",
     "output_type": "error",
     "traceback": [
      "\u001b[1;31m---------------------------------------------------------------------------\u001b[0m",
      "\u001b[1;31mNameError\u001b[0m                                 Traceback (most recent call last)",
      "Cell \u001b[1;32mIn[3], line 1\u001b[0m\n\u001b[1;32m----> 1\u001b[0m phone2\u001b[38;5;241m.\u001b[39mcamera()\n",
      "\u001b[1;31mNameError\u001b[0m: name 'phone2' is not defined"
     ]
    }
   ],
   "source": [
    "phone2.camera()"
   ]
  },
  {
   "cell_type": "code",
   "execution_count": null,
   "id": "e928440b",
   "metadata": {},
   "outputs": [],
   "source": []
  }
 ],
 "metadata": {
  "kernelspec": {
   "display_name": "Python 3 (ipykernel)",
   "language": "python",
   "name": "python3"
  },
  "language_info": {
   "codemirror_mode": {
    "name": "ipython",
    "version": 3
   },
   "file_extension": ".py",
   "mimetype": "text/x-python",
   "name": "python",
   "nbconvert_exporter": "python",
   "pygments_lexer": "ipython3",
   "version": "3.11.5"
  }
 },
 "nbformat": 4,
 "nbformat_minor": 5
}
