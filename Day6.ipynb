{
 "cells": [
  {
   "cell_type": "code",
   "execution_count": 7,
   "id": "ca30033b",
   "metadata": {},
   "outputs": [],
   "source": [
    "#Topic: Function, they are set of program designed to handle specific task\n",
    "#Importants\n",
    "#Afunction is reuseable\n",
    "#it makes your code looks more organise\n",
    "#Fuction is like a body. to perform a function, it start with the word (def)\n",
    "#Types of function in python\n",
    "#inbuilt fuction\n",
    "#user built\n"
   ]
  },
  {
   "cell_type": "code",
   "execution_count": 2,
   "id": "cbd176cd",
   "metadata": {},
   "outputs": [],
   "source": [
    "def greet ():\n",
    "    print ('Welcome to python class')"
   ]
  },
  {
   "cell_type": "code",
   "execution_count": 3,
   "id": "d3cb63ec",
   "metadata": {},
   "outputs": [
    {
     "name": "stdout",
     "output_type": "stream",
     "text": [
      "Welcome to python class\n",
      "None\n"
     ]
    }
   ],
   "source": [
    "print(greet())"
   ]
  },
  {
   "cell_type": "code",
   "execution_count": 4,
   "id": "4604625a",
   "metadata": {},
   "outputs": [
    {
     "name": "stdout",
     "output_type": "stream",
     "text": [
      "Welcome to python class\n"
     ]
    }
   ],
   "source": [
    "greet()"
   ]
  },
  {
   "cell_type": "code",
   "execution_count": 5,
   "id": "e638e615",
   "metadata": {},
   "outputs": [],
   "source": [
    "def message():\n",
    "    print('How are you doing')"
   ]
  },
  {
   "cell_type": "code",
   "execution_count": 6,
   "id": "2b8c37e9",
   "metadata": {},
   "outputs": [
    {
     "name": "stdout",
     "output_type": "stream",
     "text": [
      "How are you doing\n"
     ]
    }
   ],
   "source": [
    "message()"
   ]
  },
  {
   "cell_type": "code",
   "execution_count": 8,
   "id": "80043197",
   "metadata": {},
   "outputs": [],
   "source": [
    "#Parameter is a variable use in function or method. is a place holder for the actual value called aurgement.\n"
   ]
  },
  {
   "cell_type": "code",
   "execution_count": 13,
   "id": "882ba0e8",
   "metadata": {},
   "outputs": [
    {
     "name": "stdout",
     "output_type": "stream",
     "text": [
      "Opss sorry you are not eligeble to vote\n"
     ]
    }
   ],
   "source": [
    "def votecheck(name,gender,age):\n",
    "    if age >=18:\n",
    "        print('Congratulation you are eligible to vote')\n",
    "    else: \n",
    "        print('Opss sorry you are not eligeble to vote')\n",
    "votecheck('Sam','Male',15)\n"
   ]
  },
  {
   "cell_type": "code",
   "execution_count": 15,
   "id": "548367ac",
   "metadata": {},
   "outputs": [
    {
     "name": "stdout",
     "output_type": "stream",
     "text": [
      "Sorry you are only eligible for football sport\n"
     ]
    }
   ],
   "source": [
    "def sportassessment(name,gender,weight):\n",
    "    if weight >=175:\n",
    "        print('You are eliglbe for rubgy sport')\n",
    "    else:\n",
    "        print('Sorry you are only eligible for football sport')\n",
    "sportassessment('Yetunde','Female',170)"
   ]
  },
  {
   "cell_type": "code",
   "execution_count": 18,
   "id": "697d22b3",
   "metadata": {},
   "outputs": [
    {
     "name": "stdout",
     "output_type": "stream",
     "text": [
      "Opss sorry you are not eligeble to vote\n"
     ]
    }
   ],
   "source": [
    "votecheck('Sam','Male',11)"
   ]
  },
  {
   "cell_type": "code",
   "execution_count": 19,
   "id": "7d12187d",
   "metadata": {},
   "outputs": [
    {
     "name": "stdout",
     "output_type": "stream",
     "text": [
      "PLAYER ONE DICE OUTCOME: 8\n",
      "PLAYER TWO DICE OUTCOME: 11\n",
      "PLAYER TWO WINS....\n",
      "PLAYER ONE DICE OUTCOME: 8\n",
      "PLAYER TWO DICE OUTCOME: 8\n",
      "DRAW....\n",
      "PLAYER ONE DICE OUTCOME: 10\n",
      "PLAYER TWO DICE OUTCOME: 9\n",
      "PLAYER ONE WINS....\n",
      "PLAYER ONE DICE OUTCOME: 3\n",
      "PLAYER TWO DICE OUTCOME: 9\n",
      "PLAYER TWO WINS....\n",
      "PLAYER ONE DICE OUTCOME: 9\n",
      "PLAYER TWO DICE OUTCOME: 6\n",
      "PLAYER ONE WINS....\n",
      "PLAYER ONE DICE OUTCOME: 2\n",
      "PLAYER TWO DICE OUTCOME: 7\n",
      "PLAYER TWO WINS....\n",
      "PLAYER ONE DICE OUTCOME: 3\n",
      "PLAYER TWO DICE OUTCOME: 9\n",
      "PLAYER TWO WINS....\n",
      "PLAYER ONE DICE OUTCOME: 7\n",
      "PLAYER TWO DICE OUTCOME: 7\n",
      "DRAW....\n",
      "PLAYER ONE DICE OUTCOME: 8\n",
      "PLAYER TWO DICE OUTCOME: 9\n",
      "PLAYER TWO WINS....\n",
      "PLAYER ONE DICE OUTCOME: 10\n",
      "PLAYER TWO DICE OUTCOME: 8\n",
      "PLAYER ONE WINS....\n",
      "PLAYER ONE IS THE OVERALL WINNER BY 42POINT\n"
     ]
    }
   ],
   "source": [
    "def rolldicegame():\n",
    "    import random\n",
    "    playeronescore = 0\n",
    "    playertwoscore = 0\n",
    "    counter = 1\n",
    "    while counter <= 10:\n",
    "        dice1 =random.randint (1,6) + random.randint(1,6)\n",
    "        dice2 =random.randint (1,6) + random.randint(1,6)\n",
    "        if dice1 > dice2:\n",
    "            print('PLAYER ONE DICE OUTCOME:', dice1)\n",
    "            print('PLAYER TWO DICE OUTCOME:', dice2)\n",
    "            print('PLAYER ONE WINS....')\n",
    "            playeronescore +=5\n",
    "            \n",
    "        elif dice2 > dice1:\n",
    "                print('PLAYER ONE DICE OUTCOME:',dice1)\n",
    "                print('PLAYER TWO DICE OUTCOME:', dice2)\n",
    "                print('PLAYER TWO WINS....')\n",
    "                playeronescore +=5\n",
    "        else:\n",
    "                print('PLAYER ONE DICE OUTCOME:',dice1)\n",
    "                print('PLAYER TWO DICE OUTCOME:', dice2)\n",
    "                print('DRAW....')\n",
    "                playertwoscore +=1\n",
    "                playeronescore +=1\n",
    "        counter +=1\n",
    "    if playeronescore > playertwoscore:\n",
    "        print(f'PLAYER ONE IS THE OVERALL WINNER BY {playeronescore}POINT')\n",
    "    elif playeronescore < playertwo:\n",
    "        print(f'PLAYER TWO IS THE OVERALL WINNER BY {playertwocore}POINT')\n",
    "    else:\n",
    "        print('No WINNER, IT IS A DRAW')\n",
    "rolldicegame()\n",
    "    "
   ]
  },
  {
   "cell_type": "code",
   "execution_count": 26,
   "id": "023aaf4d",
   "metadata": {},
   "outputs": [
    {
     "name": "stdout",
     "output_type": "stream",
     "text": [
      "\n",
      "MENU\n",
      "Pizza: £15.000000\n",
      "Sandwich: £7.500000\n",
      "Salad: £4.990000\n",
      "Fries: £3.990000\n",
      "Burger: £8.000000\n",
      "Enter the food item you want to order (or done to finsh)pizza\n",
      "HOW MANY pizzas DO YOU WANT TO ORDER?5\n",
      "\n",
      "MENU\n",
      "Pizza: £15.000000\n",
      "Sandwich: £7.500000\n",
      "Salad: £4.990000\n",
      "Fries: £3.990000\n",
      "Burger: £8.000000\n",
      "Enter the food item you want to order (or done to finsh)done\n",
      "\n",
      "RECEIPT\n",
      "Pizza:5 * £8.00 = £75.0\n",
      "Total Price is 75.0\n"
     ]
    }
   ],
   "source": [
    "def order_food():\n",
    "    menu = {\n",
    "        'pizza': 15.0,\n",
    "        'sandwich': 7.5,\n",
    "        'salad' : 4.99,\n",
    "        'fries': 3.99,\n",
    "        'Burger': 8.00,\n",
    "        \n",
    "    }\n",
    "    order = {}\n",
    "    totalprice = 0.0\n",
    "    while True:\n",
    "        print('\\nMENU')\n",
    "        for item, price in menu.items():\n",
    "            print(f'{item.capitalize()}: £{price:2f}')\n",
    "        user_choice = input('Enter the food item you want to order (or done to finsh)').lower()\n",
    "        \n",
    "        if user_choice == 'done':\n",
    "            break\n",
    "        if user_choice in menu:\n",
    "            quantity = int(input(f'HOW MANY {user_choice}s DO YOU WANT TO ORDER?'))\n",
    "            order[user_choice] = quantity\n",
    "            totalprice += menu[user_choice] * quantity\n",
    "        else:\n",
    "            print('Invalid choice, choose from the menu.')\n",
    "    print('\\nRECEIPT')\n",
    "    for item, quantity in order.items():\n",
    "        print(f'{item.capitalize()}:{quantity} * £{price:.2f} = £{menu[item] * quantity}')\n",
    "    print('Total Price is', totalprice)\n",
    "order_food()"
   ]
  },
  {
   "cell_type": "code",
   "execution_count": null,
   "id": "95949a5c",
   "metadata": {},
   "outputs": [],
   "source": []
  }
 ],
 "metadata": {
  "kernelspec": {
   "display_name": "Python 3 (ipykernel)",
   "language": "python",
   "name": "python3"
  },
  "language_info": {
   "codemirror_mode": {
    "name": "ipython",
    "version": 3
   },
   "file_extension": ".py",
   "mimetype": "text/x-python",
   "name": "python",
   "nbconvert_exporter": "python",
   "pygments_lexer": "ipython3",
   "version": "3.11.5"
  }
 },
 "nbformat": 4,
 "nbformat_minor": 5
}
