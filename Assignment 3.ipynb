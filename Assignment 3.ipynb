{
 "cells": [
  {
   "cell_type": "code",
   "execution_count": 1,
   "id": "addb2f38",
   "metadata": {},
   "outputs": [
    {
     "name": "stdout",
     "output_type": "stream",
     "text": [
      "Shipment Region:North Central\n",
      "Item Weight in KG:9\n",
      "Item Condition:Fragile\n",
      "Item Quantity:20\n",
      "Enter item cost:30000\n",
      "Total cost plus shipment is 601980.0\n"
     ]
    }
   ],
   "source": [
    "region = input('Shipment Region:')\n",
    "weight = float(input('Item Weight in KG:'))\n",
    "condition = input('Item Condition:')\n",
    "quantity = float(input('Item Quantity:'))\n",
    "costperitem = float(input('Enter item cost:'))\n",
    "if region == 'North Central' and condition == 'Fragile':\n",
    "    print(f'Total cost plus shipment is {(weight * 11 * quantity) + (quantity * costperitem )}')\n",
    "elif region == 'North Central' and condition =='Non Fragile':\n",
    "    print(f'Total cost plus shipment is {(weight * 7 * quantity) + (quantity * costperitem)}')\n",
    "elif region == 'North West' and condition =='Non Fragile':\n",
    "    print(f'Total Cost plus shipment is {(weight * 6 * quantity) + (quantity * costperitem)}')\n",
    "elif region == 'North West' and condition == 'Fragile':\n",
    "    print(f'Total Cost plus shipment is {(weight * 9 * quantity) + (quantity * costperitem)}')\n",
    "if region == 'North East' and condition == 'Fragile':\n",
    "    print(f'Total cost plus shipment is {(weight * 13 * quantity) + (quantity * costperitem )}')\n",
    "elif region == 'North East' and condition =='Non Fragile':\n",
    "    print(f'Total cost plus shipment is {(weight * 8.5 * quantity) + (quantity * costperitem)}')\n",
    "elif region == 'North East' and condition == 'Fragile':\n",
    "    print(f'Total cost plus shipment is {(weight * 14 * quantity) + (quantity * costperitem)}')\n",
    "elif region == 'North East' and condition =='Non Fragile':\n",
    "    print(f'Total cost plus shipment is {(weight * 7.5 * quantity) + (quantity * costperitem)}')\n"
   ]
  },
  {
   "cell_type": "code",
   "execution_count": null,
   "id": "83a818cd",
   "metadata": {},
   "outputs": [],
   "source": []
  }
 ],
 "metadata": {
  "kernelspec": {
   "display_name": "Python 3 (ipykernel)",
   "language": "python",
   "name": "python3"
  },
  "language_info": {
   "codemirror_mode": {
    "name": "ipython",
    "version": 3
   },
   "file_extension": ".py",
   "mimetype": "text/x-python",
   "name": "python",
   "nbconvert_exporter": "python",
   "pygments_lexer": "ipython3",
   "version": "3.11.5"
  }
 },
 "nbformat": 4,
 "nbformat_minor": 5
}
