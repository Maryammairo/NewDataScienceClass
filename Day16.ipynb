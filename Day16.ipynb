{
 "cells": [
  {
   "cell_type": "code",
   "execution_count": 1,
   "id": "f9f1051e",
   "metadata": {},
   "outputs": [],
   "source": [
    "import pymysql"
   ]
  },
  {
   "cell_type": "code",
   "execution_count": 4,
   "id": "55aee60b",
   "metadata": {},
   "outputs": [],
   "source": [
    "mydb =pymysql.connect(\n",
    "    host= 'localhost',\n",
    "    user= 'root',\n",
    "    password= '@Maryamkay24'\n",
    ")\n",
    "mycursor = mydb.cursor()"
   ]
  },
  {
   "cell_type": "code",
   "execution_count": 5,
   "id": "8c03b733",
   "metadata": {},
   "outputs": [
    {
     "name": "stdout",
     "output_type": "stream",
     "text": [
      "('earlycodeacademy',)\n",
      "('earlycodeacademy2',)\n",
      "('employees_system',)\n",
      "('information_schema',)\n",
      "('j_waec_system',)\n",
      "('mysql',)\n",
      "('performance_schema',)\n",
      "('sakila',)\n",
      "('sys',)\n",
      "('world',)\n"
     ]
    }
   ],
   "source": [
    "mycursor.execute('show databases')\n",
    "for x in mycursor:\n",
    "    print(x)"
   ]
  },
  {
   "cell_type": "code",
   "execution_count": 7,
   "id": "57be7148",
   "metadata": {},
   "outputs": [
    {
     "name": "stdout",
     "output_type": "stream",
     "text": [
      "('earlycodeacademy',)\n",
      "('earlycodeacademy2',)\n",
      "('employees_system',)\n",
      "('information_schema',)\n",
      "('j_waec_system',)\n",
      "('mysql',)\n",
      "('performance_schema',)\n",
      "('primeacademy',)\n",
      "('sakila',)\n",
      "('sys',)\n",
      "('world',)\n"
     ]
    }
   ],
   "source": [
    "mycursor.execute('create database primeacademy')\n",
    "mycursor.execute('show databases')\n",
    "for x in mycursor:\n",
    "    print(x)\n"
   ]
  },
  {
   "cell_type": "code",
   "execution_count": 23,
   "id": "23434e7a",
   "metadata": {},
   "outputs": [],
   "source": [
    "#activating the database\n",
    "mydb =pymysql.connect(\n",
    "    host= 'localhost',\n",
    "    user= 'root',\n",
    "    password= '@Maryamkay24',\n",
    "    database= 'primeacademy'\n",
    ")\n",
    "mycursor = mydb.cursor()\n"
   ]
  },
  {
   "cell_type": "code",
   "execution_count": 13,
   "id": "6b66b5b2",
   "metadata": {},
   "outputs": [
    {
     "name": "stdout",
     "output_type": "stream",
     "text": [
      "('id', 'int', 'NO', 'PRI', None, '')\n",
      "('name', 'varchar(255)', 'NO', '', None, '')\n",
      "('age', 'int', 'NO', '', None, '')\n",
      "('gender', 'varchar(50)', 'NO', '', None, '')\n",
      "('dob', 'date', 'NO', '', None, '')\n",
      "('address', 'text', 'NO', '', None, '')\n",
      "('guardian', 'varchar(255)', 'NO', '', None, '')\n",
      "('guardian_contact', 'varchar(50)', 'NO', '', None, '')\n"
     ]
    }
   ],
   "source": [
    "mycursor.execute('create table students(id int primary key not null, name varchar(255) not null,age int not null, gender varchar(50) not null, dob date not null, address text not null, guardian varchar(255) not null, guardian_contact varchar(50) not null)')\n",
    "mycursor.execute('show columns from students')\n",
    "for x in mycursor:\n",
    "    print(x)"
   ]
  },
  {
   "cell_type": "code",
   "execution_count": 32,
   "id": "2e4575a1",
   "metadata": {},
   "outputs": [],
   "source": [
    "# %s means placeholder\n",
    "#commit means adding to the records\n",
    "                              \n",
    "def accept_record():\n",
    "    id = int(input(\"Enter Students Id:\"))\n",
    "    name = input(\"Enter Students Name:\")\n",
    "    age = int(input(\"Enter Students Age:\"))\n",
    "    gender = input(\"Enter Gender (Male/Female/Other):\")\n",
    "    dob = input(\"Enter Students date of birth(YYYY-MM-DD):\")\n",
    "    address = input(\"Enter Adderess:\")\n",
    "    guardian = input(\"Enter Guardian:\")\n",
    "    guardian_contact = input(\"Enter Guardian Contact Number:\")\n",
    "    \n",
    "    query = 'insert into students(id,name,age,gender,dob,address,guardian,guardian_contact) values(%s,%s,%s,%s,%s,%s,%s,%s)'\n",
    "    mycursor.execute(query,(id,name,age,gender,dob,address,guardian,guardian_contact))\n",
    "    mydb.commit()\n",
    "    print('Record inserted successfully...')\n",
    "                              \n",
    "def search_record():\n",
    "    id = int(input('Enter search ID:'))\n",
    "    query = 'select * from students where id =\"%s\"'\n",
    "    mycursor.execute(query,(id,))\n",
    "    result = mycursor.fetchall()\n",
    "    if len(result) ==0:\n",
    "        print('Record not found')\n",
    "    else:\n",
    "        for x in result:\n",
    "            print(x)\n",
    "                              \n",
    "def display_record():\n",
    "    mycursor.execute('select * from students')\n",
    "    for x in mycursor:\n",
    "        print(x)\n",
    "\n",
    "def update_record():\n",
    "    id = int(input('Enter search ID:'))\n",
    "    column = input('Enter the column to be updated:')\n",
    "    newval = input('Enter the new value:')\n",
    "    query=f'update students set {column} = %s where id =%s'\n",
    "    mycursor.execute(query,(newval,id))\n",
    "    mydb.commit()\n",
    "    print('record update successfully...')\n",
    "\n",
    "def archive_record():\n",
    "    id = int(input('Enter ID To Be Deleted:'))\n",
    "    query = 'delete from students where id =%s'\n",
    "    mycursor.execute(query,(id,))\n",
    "    mmdb.commit()\n",
    "    print('Record Archived Successfully')\n",
    "    \n",
    "def main():\n",
    "    print('Welcome Admin')\n",
    "    print('Operation list [Accept, display, search, update, archive, logout]')\n",
    "    operation = True\n",
    "    while operation:\n",
    "        option = input('Select Operation:')   \n",
    "        if option =='Accept'.lower(): \n",
    "            accept_record()\n",
    "        elif option == 'Display'.lower():\n",
    "            display_record()\n",
    "        elif option == 'Search'.lower():\n",
    "            search_record()\n",
    "        elif option == 'Update'.lower():\n",
    "            update_record()\n",
    "        elif option == 'Archive'.lower():\n",
    "            archive_record()\n",
    "        elif option == 'Logout'.lower():\n",
    "            operation = False\n",
    "            print('Operation Terminatd.........')\n",
    "            break\n",
    "\n",
    "\n"
   ]
  },
  {
   "cell_type": "code",
   "execution_count": 33,
   "id": "d3e54c83",
   "metadata": {},
   "outputs": [
    {
     "name": "stdout",
     "output_type": "stream",
     "text": [
      "Welcome Admin\n",
      "Operation list [Accept, display, search, update, archive, logout]\n",
      "Select Operation:update\n",
      "Enter search ID:1\n",
      "Enter the column to be updated:guardian\n",
      "Enter the new value:Father\n",
      "record update successfully...\n",
      "Select Operation:logout\n",
      "Operation Terminatd.........\n"
     ]
    }
   ],
   "source": [
    "main()"
   ]
  },
  {
   "cell_type": "code",
   "execution_count": null,
   "id": "f5d80008",
   "metadata": {},
   "outputs": [],
   "source": []
  }
 ],
 "metadata": {
  "kernelspec": {
   "display_name": "Python 3 (ipykernel)",
   "language": "python",
   "name": "python3"
  },
  "language_info": {
   "codemirror_mode": {
    "name": "ipython",
    "version": 3
   },
   "file_extension": ".py",
   "mimetype": "text/x-python",
   "name": "python",
   "nbconvert_exporter": "python",
   "pygments_lexer": "ipython3",
   "version": "3.11.5"
  }
 },
 "nbformat": 4,
 "nbformat_minor": 5
}
