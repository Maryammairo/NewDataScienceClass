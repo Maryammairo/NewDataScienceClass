{
 "cells": [
  {
   "cell_type": "code",
   "execution_count": 1,
   "id": "a67b4348",
   "metadata": {},
   "outputs": [],
   "source": [
    "#You have just been employed as aprogrammer at earlycode academy the first batch of "
   ]
  },
  {
   "cell_type": "code",
   "execution_count": 7,
   "id": "75fdd331",
   "metadata": {},
   "outputs": [
    {
     "name": "stdout",
     "output_type": "stream",
     "text": [
      "{'Name': 'Wumi', 'Gender': 'Female', 'Age': 23, 'python exam': 40, 'python assigment': 30, 'data science exam': 50, 'data science assignment': 25}\n"
     ]
    }
   ],
   "source": [
    "recordA = {\n",
    "    'Name' : 'Wumi',\n",
    "    'Gender' :'Female',\n",
    "    'Age' :23,\n",
    "    'python exam': 40,\n",
    "    'python assigment' : 30,\n",
    "    'data science exam' : 50,\n",
    "    'data science assignment' : 25,\n",
    "}\n",
    "print(recordA)"
   ]
  },
  {
   "cell_type": "code",
   "execution_count": 8,
   "id": "74add9a3",
   "metadata": {},
   "outputs": [
    {
     "name": "stdout",
     "output_type": "stream",
     "text": [
      "{'Name': 'Bello', 'Gender': 'Male', 'Age': 30, 'python exam': 50, 'python assigment': 30, 'data science exam': 45, 'data science assignment': 35}\n"
     ]
    }
   ],
   "source": [
    "recordB = {\n",
    "    'Name' : 'Bello',\n",
    "    'Gender' : 'Male',\n",
    "    'Age' : 30,\n",
    "    'python exam': 50,\n",
    "    'python assigment' : 30,\n",
    "    'data science exam' : 45,\n",
    "    'data science assignment' : 35,\n",
    "}\n",
    "print(recordB)"
   ]
  },
  {
   "cell_type": "code",
   "execution_count": 21,
   "id": "ffe29291",
   "metadata": {},
   "outputs": [
    {
     "name": "stdout",
     "output_type": "stream",
     "text": [
      "Enter your registration ID to check your result,PHS802\n",
      "_________________STUDENT FINAL REPORT_________________\n",
      "Name: Aisha Baba\n",
      "Gender: Female\n",
      "Python Assignment: 68\n",
      "Python Exams: 75\n",
      "Data Science Assignment: 80\n",
      "Data Science Exams: 85\n",
      "Over All Score: 77.0\n"
     ]
    }
   ],
   "source": [
    "def student_score_portal():\n",
    "    student_score_table = {\n",
    "        'PHS801':{'Name':'Daniel Babalola', 'Gender':'Male','pythonAssscore':78,\n",
    "                'pythonExam': 85,'DataScienceAss':90, 'DataScienceExam':95},\n",
    "        'PHS802':{'Name':'Aisha Baba', 'Gender':'Female','pythonAssscore':68,\n",
    "                'pythonExam': 75,'DataScienceAss':80, 'DataScienceExam':85}, \n",
    "        'PHS803':{'Name':'Yakubu Bobo', 'Gender':'Male','pythonAssscore':58,\n",
    "                'PythonExam': 85,'DataScienceAss':70, 'DataScienceExam':80}, \n",
    "        'PHS804':{'Name':'Okiki Mustapha', 'Gender':'Male','pythonAssscore':70,\n",
    "                'pythonExam': 55,'DataScienceAss':90, 'DataScienceExam':70}, \n",
    "        'PHS805':{'Name':'Jenifer Umeh', 'Gender':'Female','pythonAssscore':68,\n",
    "                'pythonExam': 75,'DataScienceAss':80, 'DataScienceExam':85}, \n",
    "        'PHS806':{'Name':'Rita Emma', 'Gender':'Female','PythonAssscore':68,\n",
    "                'pythonExam': 65,'DataScienceAss':90, 'DataScienceExam':50}, \n",
    "        'PHS807':{'Name':'Lami Dauda', 'Gender':'Female','pythonAssscore':68,\n",
    "                'pythonExam': 68,'DataScienceAss':70, 'DataScienceExam':45}, \n",
    "    }\n",
    "    reg_id =input('Enter your registration ID to check your result,')\n",
    "    for key in student_score_table:\n",
    "        if reg_id == key:\n",
    "            print('_________________STUDENT FINAL REPORT_________________')\n",
    "            print('Name:',student_score_table[key]['Name'])\n",
    "            print('Gender:', student_score_table[key]['Gender'])\n",
    "            print('Python Assignment:', student_score_table[key]['pythonAssscore'])\n",
    "            print('Python Exams:', student_score_table[key]['pythonExam'])\n",
    "            print('Data Science Assignment:', student_score_table[key]['DataScienceAss'])\n",
    "            print('Data Science Exams:', student_score_table[key]['DataScienceExam'])\n",
    "            Average_score =(student_score_table[key]['pythonAssscore']+student_score_table[key]['pythonExam']+\n",
    "                           student_score_table[key]['DataScienceAss']+student_score_table[key]['DataScienceExam'])/4\n",
    "            print('Over All Score:',Average_score)\n",
    "            break\n",
    "    else:\n",
    "        print('ID not a registered Student')\n",
    "student_score_portal()\n",
    "    "
   ]
  },
  {
   "cell_type": "code",
   "execution_count": 22,
   "id": "39d0406d",
   "metadata": {},
   "outputs": [
    {
     "name": "stdout",
     "output_type": "stream",
     "text": [
      "52.666666666666664\n"
     ]
    }
   ],
   "source": [
    "def average(*numbers):\n",
    "    avg = sum(numbers)/len(numbers)\n",
    "    print(avg)\n",
    "average(14,52,36,39,38,88,56,98,53)"
   ]
  },
  {
   "cell_type": "code",
   "execution_count": 25,
   "id": "f57e16b1",
   "metadata": {},
   "outputs": [
    {
     "ename": "ModuleNotFoundError",
     "evalue": "No module named 'mymodule'",
     "output_type": "error",
     "traceback": [
      "\u001b[1;31m---------------------------------------------------------------------------\u001b[0m",
      "\u001b[1;31mModuleNotFoundError\u001b[0m                       Traceback (most recent call last)",
      "Cell \u001b[1;32mIn[25], line 1\u001b[0m\n\u001b[1;32m----> 1\u001b[0m \u001b[38;5;28;01mimport\u001b[39;00m \u001b[38;5;21;01mmymodule\u001b[39;00m\n\u001b[0;32m      2\u001b[0m \u001b[38;5;28mprint\u001b[39m(\u001b[38;5;28mdir\u001b[39m(mymodule))\n",
      "\u001b[1;31mModuleNotFoundError\u001b[0m: No module named 'mymodule'"
     ]
    }
   ],
   "source": [
    "import mymodule\n",
    "print(dir(mymodule))"
   ]
  },
  {
   "cell_type": "code",
   "execution_count": 28,
   "id": "fdfc28e5",
   "metadata": {},
   "outputs": [
    {
     "name": "stdout",
     "output_type": "stream",
     "text": [
      "Name : Ade\n"
     ]
    }
   ],
   "source": [
    "def records(**details):\n",
    "    for key, value in details.items():\n",
    "        print(key,':',value)\n",
    "records(Name='Ade')"
   ]
  },
  {
   "cell_type": "code",
   "execution_count": null,
   "id": "6f4c1d49",
   "metadata": {},
   "outputs": [],
   "source": [
    "#class\n",
    "#object\n",
    "#atrribute\n",
    "#method\n",
    "#_init_\n",
    "#self"
   ]
  }
 ],
 "metadata": {
  "kernelspec": {
   "display_name": "Python 3 (ipykernel)",
   "language": "python",
   "name": "python3"
  },
  "language_info": {
   "codemirror_mode": {
    "name": "ipython",
    "version": 3
   },
   "file_extension": ".py",
   "mimetype": "text/x-python",
   "name": "python",
   "nbconvert_exporter": "python",
   "pygments_lexer": "ipython3",
   "version": "3.11.5"
  }
 },
 "nbformat": 4,
 "nbformat_minor": 5
}
