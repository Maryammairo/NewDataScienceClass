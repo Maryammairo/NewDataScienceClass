{
 "cells": [
  {
   "cell_type": "code",
   "execution_count": 1,
   "id": "73042667",
   "metadata": {},
   "outputs": [],
   "source": [
    "numbers = (1,2,3,4,5)"
   ]
  },
  {
   "cell_type": "code",
   "execution_count": 13,
   "id": "887e4642",
   "metadata": {},
   "outputs": [
    {
     "ename": "TypeError",
     "evalue": "descriptor 'insert' for 'list' objects doesn't apply to a 'int' object",
     "output_type": "error",
     "traceback": [
      "\u001b[1;31m---------------------------------------------------------------------------\u001b[0m",
      "\u001b[1;31mTypeError\u001b[0m                                 Traceback (most recent call last)",
      "Cell \u001b[1;32mIn[13], line 1\u001b[0m\n\u001b[1;32m----> 1\u001b[0m \u001b[38;5;28mlist\u001b[39m\u001b[38;5;241m.\u001b[39minsert(\u001b[38;5;241m6\u001b[39m)\n",
      "\u001b[1;31mTypeError\u001b[0m: descriptor 'insert' for 'list' objects doesn't apply to a 'int' object"
     ]
    }
   ],
   "source": [
    "list.insert(6)"
   ]
  },
  {
   "cell_type": "code",
   "execution_count": 7,
   "id": "c8babb32",
   "metadata": {},
   "outputs": [
    {
     "name": "stdout",
     "output_type": "stream",
     "text": [
      "5\n"
     ]
    }
   ],
   "source": [
    "print(len(numbers))"
   ]
  },
  {
   "cell_type": "code",
   "execution_count": 8,
   "id": "9a6f9951",
   "metadata": {},
   "outputs": [],
   "source": [
    "houseA=['Carrot','Mango','Orange','Pineapple']"
   ]
  },
  {
   "cell_type": "code",
   "execution_count": 9,
   "id": "9d48d3cf",
   "metadata": {},
   "outputs": [
    {
     "name": "stdout",
     "output_type": "stream",
     "text": [
      "['Carrot', 'Mango', 'Orange']\n"
     ]
    }
   ],
   "source": [
    "houseA.pop(3)\n",
    "print(houseA)"
   ]
  },
  {
   "cell_type": "code",
   "execution_count": 11,
   "id": "e3e0e87f",
   "metadata": {},
   "outputs": [
    {
     "name": "stdout",
     "output_type": "stream",
     "text": [
      "Mango\n"
     ]
    }
   ],
   "source": [
    "print('Mango')"
   ]
  },
  {
   "cell_type": "code",
   "execution_count": 14,
   "id": "7c9562c3",
   "metadata": {},
   "outputs": [],
   "source": [
    "numbers=(30,32,10,25,20,70,50,15,85,68)"
   ]
  },
  {
   "cell_type": "code",
   "execution_count": 15,
   "id": "74807508",
   "metadata": {},
   "outputs": [
    {
     "name": "stdout",
     "output_type": "stream",
     "text": [
      "85\n"
     ]
    }
   ],
   "source": [
    "print(max(numbers))"
   ]
  },
  {
   "cell_type": "code",
   "execution_count": 16,
   "id": "c5301016",
   "metadata": {},
   "outputs": [
    {
     "name": "stdout",
     "output_type": "stream",
     "text": [
      "10\n"
     ]
    }
   ],
   "source": [
    "print(min(numbers))"
   ]
  },
  {
   "cell_type": "code",
   "execution_count": 17,
   "id": "db0a6713",
   "metadata": {},
   "outputs": [],
   "source": [
    "classA=['Maryam','Fatima','Kamal','Korede','Ekene','Ade']"
   ]
  },
  {
   "cell_type": "code",
   "execution_count": 18,
   "id": "b9735aef",
   "metadata": {},
   "outputs": [
    {
     "name": "stdout",
     "output_type": "stream",
     "text": [
      "['Ade', 'Ekene', 'Fatima', 'Kamal', 'Korede', 'Maryam']\n"
     ]
    }
   ],
   "source": [
    "classA.sort()\n",
    "print(classA)"
   ]
  },
  {
   "cell_type": "code",
   "execution_count": 19,
   "id": "fea425b1",
   "metadata": {},
   "outputs": [],
   "source": [
    "houseB= ['Blocks','Cement','Pen','Cloths','Rice','Fish','Cement','Bag']"
   ]
  },
  {
   "cell_type": "code",
   "execution_count": 20,
   "id": "496f8d82",
   "metadata": {},
   "outputs": [
    {
     "name": "stdout",
     "output_type": "stream",
     "text": [
      "['Blocks', 'Pen', 'Cloths', 'Rice', 'Fish', 'Cement', 'Bag']\n"
     ]
    }
   ],
   "source": [
    "houseB.remove('Cement')\n",
    "print(houseB)"
   ]
  },
  {
   "cell_type": "code",
   "execution_count": 21,
   "id": "ab176148",
   "metadata": {},
   "outputs": [
    {
     "name": "stdout",
     "output_type": "stream",
     "text": [
      "['Bag', 'Cement', 'Fish', 'Rice', 'Cloths', 'Pen', 'Blocks']\n"
     ]
    }
   ],
   "source": [
    "houseB.reverse()\n",
    "print(houseB)"
   ]
  },
  {
   "cell_type": "code",
   "execution_count": 23,
   "id": "a6c895da",
   "metadata": {},
   "outputs": [
    {
     "name": "stdout",
     "output_type": "stream",
     "text": [
      "['Bag', 'Cement', 'Fish', 'Rice', 'Cloths', 'Pen', 'Blocks', 'Ade', 'Ekene', 'Fatima', 'Kamal', 'Korede', 'Maryam', 'Ade', 'Ekene', 'Fatima', 'Kamal', 'Korede', 'Maryam']\n"
     ]
    }
   ],
   "source": [
    "classA=['Ade','Ekene','Fatima','Kamal','Korede','Maryam']\n",
    "houseB.extend(classA)\n",
    "print(houseB)"
   ]
  },
  {
   "cell_type": "code",
   "execution_count": 40,
   "id": "fcffe14b",
   "metadata": {},
   "outputs": [],
   "source": [
    "animals='Cat','Rat','Dog'"
   ]
  },
  {
   "cell_type": "code",
   "execution_count": 26,
   "id": "25c60125",
   "metadata": {},
   "outputs": [
    {
     "name": "stdout",
     "output_type": "stream",
     "text": [
      "<class 'tuple'>\n"
     ]
    }
   ],
   "source": [
    "print(type(animals))"
   ]
  },
  {
   "cell_type": "code",
   "execution_count": 39,
   "id": "0c945a78",
   "metadata": {},
   "outputs": [
    {
     "name": "stdout",
     "output_type": "stream",
     "text": [
      "0\n"
     ]
    }
   ],
   "source": [
    "print(animals.count(3))"
   ]
  },
  {
   "cell_type": "code",
   "execution_count": 42,
   "id": "fe2dad2d",
   "metadata": {},
   "outputs": [
    {
     "name": "stdout",
     "output_type": "stream",
     "text": [
      "(1, 2, 3, 4, 5, 6)\n"
     ]
    }
   ],
   "source": [
    "t1=(1,2,3)\n",
    "t2=(4,5,6)\n",
    "t3=(7,8,9)\n",
    "print(t1+t2) #(1,2,3,4,5,6,7,8,9)"
   ]
  },
  {
   "cell_type": "code",
   "execution_count": 45,
   "id": "6dae84b1",
   "metadata": {},
   "outputs": [
    {
     "name": "stdout",
     "output_type": "stream",
     "text": [
      "{'Name': 'Maryam', 'Age': 30, 'City': 'Sokoto'}\n"
     ]
    }
   ],
   "source": [
    "bio={\n",
    "    'Name':'Maryam',\n",
    "    'Age':30,\n",
    "    'City':'Sokoto'\n",
    "    \n",
    "}\n",
    "\n",
    "print(bio)"
   ]
  },
  {
   "cell_type": "code",
   "execution_count": 46,
   "id": "394a4c1a",
   "metadata": {},
   "outputs": [
    {
     "name": "stdout",
     "output_type": "stream",
     "text": [
      "{'Name': 'Maryam', 'Age': 30, 'City': 'Sokoto', 'Colour': 'Black'}\n"
     ]
    }
   ],
   "source": [
    "newval={'Colour':'Black'}\n",
    "bio.update(newval)\n",
    "print(bio)"
   ]
  },
  {
   "cell_type": "code",
   "execution_count": 47,
   "id": "a9fc8845",
   "metadata": {},
   "outputs": [
    {
     "name": "stdout",
     "output_type": "stream",
     "text": [
      "dict_keys(['Name', 'Age', 'City', 'Colour'])\n"
     ]
    }
   ],
   "source": [
    "print(bio.keys())"
   ]
  },
  {
   "cell_type": "code",
   "execution_count": 48,
   "id": "dfb2fe83",
   "metadata": {},
   "outputs": [
    {
     "name": "stdout",
     "output_type": "stream",
     "text": [
      "{'Mangos': 100, 'Oranges': 50, 'Apples': 30}\n"
     ]
    }
   ],
   "source": [
    "fruits={\n",
    "    'Mangos':100,\n",
    "    'Oranges':50,\n",
    "    'Apples':30,\n",
    "}\n",
    "print(fruits)"
   ]
  },
  {
   "cell_type": "code",
   "execution_count": 51,
   "id": "943c415e",
   "metadata": {},
   "outputs": [
    {
     "name": "stdout",
     "output_type": "stream",
     "text": [
      "dict_items([('Mangos', 100), ('Oranges', 50), ('Apples', 30)])\n"
     ]
    }
   ],
   "source": [
    "print(fruits.items())"
   ]
  },
  {
   "cell_type": "code",
   "execution_count": 55,
   "id": "b9b88d82",
   "metadata": {},
   "outputs": [
    {
     "name": "stdout",
     "output_type": "stream",
     "text": [
      "City\n"
     ]
    }
   ],
   "source": [
    "bio={\n",
    "   'data': ['Name','Age','City'],\n",
    "}\n",
    "print(bio['data'][2])"
   ]
  },
  {
   "cell_type": "code",
   "execution_count": null,
   "id": "b97ca1fe",
   "metadata": {},
   "outputs": [],
   "source": []
  }
 ],
 "metadata": {
  "kernelspec": {
   "display_name": "Python 3 (ipykernel)",
   "language": "python",
   "name": "python3"
  },
  "language_info": {
   "codemirror_mode": {
    "name": "ipython",
    "version": 3
   },
   "file_extension": ".py",
   "mimetype": "text/x-python",
   "name": "python",
   "nbconvert_exporter": "python",
   "pygments_lexer": "ipython3",
   "version": "3.11.5"
  }
 },
 "nbformat": 4,
 "nbformat_minor": 5
}
