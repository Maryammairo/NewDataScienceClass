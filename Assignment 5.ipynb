{
 "cells": [
  {
   "cell_type": "code",
   "execution_count": 30,
   "id": "7f0e1a0f",
   "metadata": {
    "scrolled": true
   },
   "outputs": [],
   "source": [
    "class carsimulation:\n",
    "    def __init__(self,brand,model,year,color,speed):\n",
    "        self.brand = brand\n",
    "        self.model = model\n",
    "        self.year = year\n",
    "        self.color = color\n",
    "        self.speed =speed\n",
    "    def start(self):\n",
    "        option = input ('Enter start option')\n",
    "        if option == 'select gear':\n",
    "            print ('car start')\n",
    "        elif option == 'stop':\n",
    "             print('stop car')\n",
    "            \n",
    "    def changegear(self):\n",
    "        option = input ('Enter gear selection option')\n",
    "        if option == 'normal':\n",
    "            print ('Activate accelerate')\n",
    "        elif option == 'stop':\n",
    "            print('stop car')\n",
    "            \n",
    "    def accelerate(self):\n",
    "        option = input ('select accelerate option')\n",
    "        if option == 'match pedals':\n",
    "            print ('Trip start')\n",
    "        elif option == 'stop':\n",
    "             print('stop car') \n",
    "            \n",
    "carA= carsimulation('Kaym','Swift','White',320,2021)"
   ]
  },
  {
   "cell_type": "code",
   "execution_count": 4,
   "id": "91f78b3b",
   "metadata": {},
   "outputs": [
    {
     "name": "stdout",
     "output_type": "stream",
     "text": [
      "Enter start optionselect gear\n",
      "car start\n",
      "Enter gear selection optionnormal\n",
      "Activate accelerate\n",
      "select accelerate optionmatch pedals\n",
      "Trip start\n"
     ]
    }
   ],
   "source": [
    "carA.start()\n",
    "carA.changegear()\n",
    "carA.accelerate()"
   ]
  },
  {
   "cell_type": "code",
   "execution_count": 31,
   "id": "3afb14a6",
   "metadata": {},
   "outputs": [],
   "source": [
    "class anothersimulation(carsimulation):\n",
    "    def speedometer(self):\n",
    "        option = input ('Enter speed limit')\n",
    "        if option == 'normal':\n",
    "            print('drive')\n",
    "        elif option == 'speed':\n",
    "            print('speed alarm') \n",
    "carB=anothersimulation('Kaym','Swift','White',320,2022)"
   ]
  },
  {
   "cell_type": "code",
   "execution_count": 32,
   "id": "99413fb8",
   "metadata": {},
   "outputs": [
    {
     "name": "stdout",
     "output_type": "stream",
     "text": [
      "Enter start optionselect gear\n",
      "car start\n",
      "Enter gear selection optionnormal\n",
      "Activate accelerate\n",
      "select accelerate optionmatch pedals\n",
      "Trip start\n",
      "Enter speed limitspeed\n",
      "speed alarm\n"
     ]
    }
   ],
   "source": [
    "carB.start()\n",
    "carB.changegear()\n",
    "carB.accelerate()\n",
    "carB.speedometer()"
   ]
  },
  {
   "cell_type": "code",
   "execution_count": null,
   "id": "fd99340f",
   "metadata": {},
   "outputs": [],
   "source": []
  },
  {
   "cell_type": "code",
   "execution_count": null,
   "id": "bd814bfb",
   "metadata": {},
   "outputs": [],
   "source": []
  }
 ],
 "metadata": {
  "kernelspec": {
   "display_name": "Python 3 (ipykernel)",
   "language": "python",
   "name": "python3"
  },
  "language_info": {
   "codemirror_mode": {
    "name": "ipython",
    "version": 3
   },
   "file_extension": ".py",
   "mimetype": "text/x-python",
   "name": "python",
   "nbconvert_exporter": "python",
   "pygments_lexer": "ipython3",
   "version": "3.11.5"
  }
 },
 "nbformat": 4,
 "nbformat_minor": 5
}
