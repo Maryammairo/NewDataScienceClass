{
 "cells": [
  {
   "cell_type": "code",
   "execution_count": 1,
   "id": "76bfaa1d",
   "metadata": {},
   "outputs": [],
   "source": [
    "#loop is use in performing a single operation\n",
    "#we have two type of loop in python\n",
    "#for you to use the loop the value must be known"
   ]
  },
  {
   "cell_type": "code",
   "execution_count": 2,
   "id": "1b1db3d8",
   "metadata": {},
   "outputs": [
    {
     "name": "stdout",
     "output_type": "stream",
     "text": [
      "ppp\n",
      "yyy\n",
      "ttt\n",
      "hhh\n",
      "ooo\n",
      "nnn\n"
     ]
    }
   ],
   "source": [
    "word = 'python'\n",
    "for char in word:\n",
    "    print(char *3)"
   ]
  },
  {
   "cell_type": "code",
   "execution_count": 3,
   "id": "dfbde23d",
   "metadata": {},
   "outputs": [
    {
     "name": "stdout",
     "output_type": "stream",
     "text": [
      "ppp/yyy/ttt/hhh/ooo/nnn/"
     ]
    }
   ],
   "source": [
    "word = 'python'\n",
    "for char in word:\n",
    "    print(char *3,end='/')"
   ]
  },
  {
   "cell_type": "code",
   "execution_count": 5,
   "id": "2055936f",
   "metadata": {},
   "outputs": [
    {
     "data": {
      "text/plain": [
       "'hey maryam this is a reminder of our meeting on friday, 12pm'"
      ]
     },
     "execution_count": 5,
     "metadata": {},
     "output_type": "execute_result"
    }
   ],
   "source": [
    "'hey maryam this is a reminder of our meeting on friday, 12pm'"
   ]
  },
  {
   "cell_type": "code",
   "execution_count": 9,
   "id": "50cef172",
   "metadata": {},
   "outputs": [
    {
     "data": {
      "text/plain": [
       "'hey Fatima this is a reminder of our meeting on friday, 12pm'"
      ]
     },
     "execution_count": 9,
     "metadata": {},
     "output_type": "execute_result"
    }
   ],
   "source": []
  },
  {
   "cell_type": "code",
   "execution_count": 10,
   "id": "2567b187",
   "metadata": {},
   "outputs": [
    {
     "data": {
      "text/plain": [
       "'hey Ola this is a reminder of our meeting on friday, 12pm'"
      ]
     },
     "execution_count": 10,
     "metadata": {},
     "output_type": "execute_result"
    }
   ],
   "source": [
    "list ='Maryam'"
   ]
  },
  {
   "cell_type": "code",
   "execution_count": 11,
   "id": "1276e56c",
   "metadata": {},
   "outputs": [],
   "source": [
    "#have a list of friends\n",
    "# send the this message\n",
    "#hey{name,} this is a reminder of our meeting on friday, 12pm'"
   ]
  },
  {
   "cell_type": "code",
   "execution_count": 12,
   "id": "1c8c233d",
   "metadata": {},
   "outputs": [
    {
     "name": "stdout",
     "output_type": "stream",
     "text": [
      "hey James, this is a reminder of our meeting on friday, 12pm\n",
      "hey Faith, this is a reminder of our meeting on friday, 12pm\n",
      "hey Hope, this is a reminder of our meeting on friday, 12pm\n",
      "hey Mary, this is a reminder of our meeting on friday, 12pm\n",
      "hey Samuel, this is a reminder of our meeting on friday, 12pm\n"
     ]
    }
   ],
   "source": [
    "friends =['James', 'Faith', 'Hope', 'Mary', 'Samuel']\n",
    "for name in friends:\n",
    "    print(f'hey {name}, this is a reminder of our meeting on friday, 12pm')"
   ]
  },
  {
   "cell_type": "code",
   "execution_count": null,
   "id": "df5edae5",
   "metadata": {},
   "outputs": [],
   "source": [
    "#write a program to check if an item is in stock and calculate the total cost of the item in the shopping cart"
   ]
  }
 ],
 "metadata": {
  "kernelspec": {
   "display_name": "Python 3 (ipykernel)",
   "language": "python",
   "name": "python3"
  },
  "language_info": {
   "codemirror_mode": {
    "name": "ipython",
    "version": 3
   },
   "file_extension": ".py",
   "mimetype": "text/x-python",
   "name": "python",
   "nbconvert_exporter": "python",
   "pygments_lexer": "ipython3",
   "version": "3.11.5"
  }
 },
 "nbformat": 4,
 "nbformat_minor": 5
}
