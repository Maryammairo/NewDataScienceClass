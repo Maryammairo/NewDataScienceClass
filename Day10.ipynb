{
 "cells": [
  {
   "cell_type": "code",
   "execution_count": 1,
   "id": "16fa4c5e",
   "metadata": {},
   "outputs": [],
   "source": [
    "#Datetime module"
   ]
  },
  {
   "cell_type": "code",
   "execution_count": 2,
   "id": "e6ef4f8d",
   "metadata": {},
   "outputs": [
    {
     "name": "stdout",
     "output_type": "stream",
     "text": [
      "['MAXYEAR', 'MINYEAR', 'UTC', '__all__', '__builtins__', '__cached__', '__doc__', '__file__', '__loader__', '__name__', '__package__', '__spec__', 'date', 'datetime', 'datetime_CAPI', 'sys', 'time', 'timedelta', 'timezone', 'tzinfo']\n"
     ]
    }
   ],
   "source": [
    "import datetime\n",
    "print(dir(datetime))"
   ]
  },
  {
   "cell_type": "code",
   "execution_count": 7,
   "id": "630bbf5b",
   "metadata": {},
   "outputs": [
    {
     "data": {
      "text/plain": [
       "datetime.date(2024, 11, 22)"
      ]
     },
     "execution_count": 7,
     "metadata": {},
     "output_type": "execute_result"
    }
   ],
   "source": [
    "date1 = datetime.date(2024,11,22)\n",
    "date1"
   ]
  },
  {
   "cell_type": "code",
   "execution_count": 10,
   "id": "5110bd41",
   "metadata": {},
   "outputs": [
    {
     "name": "stdout",
     "output_type": "stream",
     "text": [
      "2024\n",
      "11\n",
      "22\n",
      "4\n",
      "5\n"
     ]
    }
   ],
   "source": [
    "print(date1.year)\n",
    "print(date1.month)\n",
    "print(date1.day)\n",
    "print(date1.weekday())\n",
    "print(date1.isoweekday())"
   ]
  },
  {
   "cell_type": "code",
   "execution_count": 11,
   "id": "5855339d",
   "metadata": {},
   "outputs": [],
   "source": [
    "#strftime= s means string, F format, time\n",
    "#strftime is used for modification of date and time formatted in a string"
   ]
  },
  {
   "cell_type": "code",
   "execution_count": 12,
   "id": "58715dae",
   "metadata": {},
   "outputs": [
    {
     "data": {
      "text/plain": [
       "datetime.date(2024, 1, 30)"
      ]
     },
     "execution_count": 12,
     "metadata": {},
     "output_type": "execute_result"
    }
   ],
   "source": [
    "currentdate = datetime.date.today()\n",
    "currentdate"
   ]
  },
  {
   "cell_type": "code",
   "execution_count": 14,
   "id": "d5d4210f",
   "metadata": {},
   "outputs": [
    {
     "data": {
      "text/plain": [
       "'Tuesday'"
      ]
     },
     "execution_count": 14,
     "metadata": {},
     "output_type": "execute_result"
    }
   ],
   "source": [
    "currentdate.strftime('%A')"
   ]
  },
  {
   "cell_type": "code",
   "execution_count": 15,
   "id": "c46f18d0",
   "metadata": {},
   "outputs": [
    {
     "name": "stdout",
     "output_type": "stream",
     "text": [
      "Tuesday\n",
      "Tue\n",
      "January\n",
      "Jan\n",
      "2024\n",
      "24\n",
      "01\n",
      "30\n"
     ]
    }
   ],
   "source": [
    "print(currentdate.strftime('%A'))\n",
    "print(currentdate.strftime('%a'))\n",
    "print(currentdate.strftime('%B'))\n",
    "print(currentdate.strftime('%b'))\n",
    "print(currentdate.strftime('%Y'))\n",
    "print(currentdate.strftime('%y'))\n",
    "print(currentdate.strftime('%m'))\n",
    "print(currentdate.strftime('%d'))"
   ]
  },
  {
   "cell_type": "code",
   "execution_count": 16,
   "id": "d7969e61",
   "metadata": {},
   "outputs": [],
   "source": [
    "#format the current date in this format 30th of january, 2024\n",
    "#the capital letter brings out the day format in CAPITAL LETTER e.g(A=Tuesday)\n",
    "#while the small letter helps in abbrvating the output e.g (a=Tue)"
   ]
  },
  {
   "cell_type": "code",
   "execution_count": 18,
   "id": "0bb65d4e",
   "metadata": {},
   "outputs": [
    {
     "name": "stdout",
     "output_type": "stream",
     "text": [
      "30th of January, 2024\n"
     ]
    }
   ],
   "source": [
    "print(currentdate.strftime('%dth of %B, %Y'))\n"
   ]
  },
  {
   "cell_type": "code",
   "execution_count": 19,
   "id": "f9aee5bb",
   "metadata": {},
   "outputs": [],
   "source": [
    "#Time"
   ]
  },
  {
   "cell_type": "code",
   "execution_count": 20,
   "id": "476f8b37",
   "metadata": {},
   "outputs": [
    {
     "data": {
      "text/plain": [
       "datetime.time(12, 45, 45, 123456)"
      ]
     },
     "execution_count": 20,
     "metadata": {},
     "output_type": "execute_result"
    }
   ],
   "source": [
    "time1 = datetime.time(12,45,45,123456)\n",
    "time1"
   ]
  },
  {
   "cell_type": "code",
   "execution_count": 21,
   "id": "be376150",
   "metadata": {},
   "outputs": [
    {
     "name": "stdout",
     "output_type": "stream",
     "text": [
      "12\n",
      "45\n",
      "45\n",
      "123456\n"
     ]
    }
   ],
   "source": [
    "print(time1.hour)\n",
    "print(time1.minute)\n",
    "print(time1.second) \n",
    "print(time1.microsecond)"
   ]
  },
  {
   "cell_type": "code",
   "execution_count": 23,
   "id": "6da7d5a1",
   "metadata": {},
   "outputs": [
    {
     "name": "stdout",
     "output_type": "stream",
     "text": [
      "16:48:58.707037\n"
     ]
    }
   ],
   "source": [
    "currenttime = datetime.datetime.now().time()\n",
    "print(currenttime)\n"
   ]
  },
  {
   "cell_type": "code",
   "execution_count": 24,
   "id": "8c863ccc",
   "metadata": {},
   "outputs": [
    {
     "name": "stdout",
     "output_type": "stream",
     "text": [
      "16\n",
      "04\n",
      "48\n",
      "58\n",
      "707037\n",
      "PM\n"
     ]
    }
   ],
   "source": [
    "#To apply strftime :\n",
    "print(currenttime.strftime('%H'))\n",
    "print(currenttime.strftime('%I'))\n",
    "print(currenttime.strftime('%M'))\n",
    "print(currenttime.strftime('%S'))\n",
    "print(currenttime.strftime('%f'))\n",
    "print(currenttime.strftime('%p'))"
   ]
  },
  {
   "cell_type": "code",
   "execution_count": 25,
   "id": "f1a401b5",
   "metadata": {},
   "outputs": [],
   "source": [
    "#the capital letter H return time in 24hours. while the I is in 12hours format\n",
    "# the M=minute\n",
    "#S=seconds\n",
    "#F= returns in microseconds\n",
    "#P="
   ]
  },
  {
   "cell_type": "code",
   "execution_count": 28,
   "id": "4fad74ae",
   "metadata": {},
   "outputs": [
    {
     "data": {
      "text/plain": [
       "datetime.datetime(2024, 1, 30, 16, 57, 47, 963190)"
      ]
     },
     "execution_count": 28,
     "metadata": {},
     "output_type": "execute_result"
    }
   ],
   "source": [
    "current_date_time = datetime.datetime.now()\n",
    "current_date_time"
   ]
  },
  {
   "cell_type": "code",
   "execution_count": 29,
   "id": "c9a01984",
   "metadata": {},
   "outputs": [
    {
     "name": "stdout",
     "output_type": "stream",
     "text": [
      "Please enter your date [mm/dd/yy]:02/22/2024\n",
      "2024-02-22 00:00:00\n"
     ]
    }
   ],
   "source": [
    "#strptime=  it is use to convert a date in string format to date time format.\n",
    "date2 = input('Please enter your date [mm/dd/yy]:')\n",
    "cdate= datetime.datetime.strptime(date2, '%m/%d/%Y')\n",
    "print(cdate)\n"
   ]
  },
  {
   "cell_type": "code",
   "execution_count": 30,
   "id": "c76cbe80",
   "metadata": {},
   "outputs": [
    {
     "name": "stdout",
     "output_type": "stream",
     "text": [
      "Please enter your date [mm/dd/yy]:02/22/2024\n",
      "2024-02-22\n"
     ]
    }
   ],
   "source": [
    "date2 = input('Please enter your date [mm/dd/yy]:')\n",
    "cdate= datetime.datetime.strptime(date2, '%m/%d/%Y').date()\n",
    "print(cdate)"
   ]
  },
  {
   "cell_type": "code",
   "execution_count": 31,
   "id": "d3132543",
   "metadata": {},
   "outputs": [
    {
     "data": {
      "text/plain": [
       "datetime.timedelta(days=-297)"
      ]
     },
     "execution_count": 31,
     "metadata": {},
     "output_type": "execute_result"
    }
   ],
   "source": [
    "#timedelta: it state the difference between two date and time\n",
    "currentdate - date1"
   ]
  },
  {
   "cell_type": "code",
   "execution_count": 32,
   "id": "fbb63a3f",
   "metadata": {},
   "outputs": [
    {
     "data": {
      "text/plain": [
       "datetime.date(2024, 6, 18)"
      ]
     },
     "execution_count": 32,
     "metadata": {},
     "output_type": "execute_result"
    }
   ],
   "source": [
    "currentdate + datetime.timedelta(weeks=20)"
   ]
  },
  {
   "cell_type": "code",
   "execution_count": 47,
   "id": "5a0a2fec",
   "metadata": {},
   "outputs": [
    {
     "name": "stdout",
     "output_type": "stream",
     "text": [
      "Please enter your date [dd/mm/yy]:20/02/2024\n",
      "Your exam is in 3 weeks and 0 days\n"
     ]
    }
   ],
   "source": [
    "#EXERCISE\n",
    "#Ealy code is building a system for student, you are instructed by the leader to write a code \n",
    "#that allow student to check there exam date in weeks and days from the current date\n",
    "examdate = input ('Please enter your date [dd/mm/yy]:')\n",
    "date = datetime.datetime.strptime(examdate, '%d/%m/%Y').date()\n",
    "currentdate =datetime.date.today()\n",
    "diff= date - currentdate\n",
    "weeks = diff.days//7\n",
    "days = diff.days%7\n",
    "print(f'Your exam is in {weeks} weeks and {days} days')"
   ]
  },
  {
   "cell_type": "code",
   "execution_count": 46,
   "id": "91b60c8b",
   "metadata": {},
   "outputs": [
    {
     "name": "stdout",
     "output_type": "stream",
     "text": [
      "21 days, 0:00:00\n"
     ]
    }
   ],
   "source": [
    "print(diff)"
   ]
  },
  {
   "cell_type": "code",
   "execution_count": null,
   "id": "4d5056f2",
   "metadata": {},
   "outputs": [],
   "source": []
  }
 ],
 "metadata": {
  "kernelspec": {
   "display_name": "Python 3 (ipykernel)",
   "language": "python",
   "name": "python3"
  },
  "language_info": {
   "codemirror_mode": {
    "name": "ipython",
    "version": 3
   },
   "file_extension": ".py",
   "mimetype": "text/x-python",
   "name": "python",
   "nbconvert_exporter": "python",
   "pygments_lexer": "ipython3",
   "version": "3.11.5"
  }
 },
 "nbformat": 4,
 "nbformat_minor": 5
}
